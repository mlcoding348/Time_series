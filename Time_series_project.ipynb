{
  "nbformat": 4,
  "nbformat_minor": 0,
  "metadata": {
    "colab": {
      "provenance": []
    },
    "kernelspec": {
      "name": "python3",
      "display_name": "Python 3"
    },
    "language_info": {
      "name": "python"
    }
  },
  "cells": [
    {
      "cell_type": "markdown",
      "source": [
        "# End-to-End Data Science Project: A Comprehensive Guide for Beginners\n"
      ],
      "metadata": {
        "id": "RkJB9lMVteEZ"
      }
    },
    {
      "cell_type": "markdown",
      "source": [
        "**Author:** Dhanush Kobal\n"
      ],
      "metadata": {
        "id": "DyrDaBpLtiI4"
      }
    },
    {
      "cell_type": "markdown",
      "source": [
        "In this project, we will walk through a complete data science process, from web-scraping to creating various machine learning models. We will perform exploratory data analysis (EDA), conduct statistical tests, and draw insights from our findings. Throughout the project, we will apply various data science concepts, such as hyperparameter tuning, random forest importance, ensemble learning, and k-fold cross-validation, to showcase a real-world end-to-end data science project.\n"
      ],
      "metadata": {
        "id": "gbcCez1stkFg"
      }
    },
    {
      "cell_type": "code",
      "source": [
        "import os\n",
        "\n",
        "# Set up Kaggle API key\n",
        "os.environ['KAGGLE_CONFIG_DIR'] = os.getcwd()\n",
        "\n",
        "# Ensure the kaggle.json file is present\n",
        "!ls -la kaggle.json"
      ],
      "metadata": {
        "colab": {
          "base_uri": "https://localhost:8080/"
        },
        "id": "oLuTfkiQtF9h",
        "outputId": "fb88b50a-b557-44f9-b8e8-03c00cee8574"
      },
      "execution_count": 1,
      "outputs": [
        {
          "output_type": "stream",
          "name": "stdout",
          "text": [
            "-rw-r--r-- 1 root root 70 Mar 26 22:40 kaggle.json\n"
          ]
        }
      ]
    },
    {
      "cell_type": "code",
      "source": [
        "!kaggle competitions download -c store-sales-time-series-forecasting\n"
      ],
      "metadata": {
        "colab": {
          "base_uri": "https://localhost:8080/"
        },
        "id": "A2D0pygqtVGZ",
        "outputId": "9260bbd5-8643-41d6-96a3-6acf30c49b22"
      },
      "execution_count": 2,
      "outputs": [
        {
          "output_type": "stream",
          "name": "stdout",
          "text": [
            "Warning: Your Kaggle API key is readable by other users on this system! To fix this, you can run 'chmod 600 /content/kaggle.json'\n",
            "store-sales-time-series-forecasting.zip: Skipping, found more recently modified local copy (use --force to force download)\n"
          ]
        }
      ]
    },
    {
      "cell_type": "code",
      "source": [
        "!unzip store-sales-time-series-forecasting.zip"
      ],
      "metadata": {
        "colab": {
          "base_uri": "https://localhost:8080/"
        },
        "id": "lnnuE3jRtYUY",
        "outputId": "ae384c7c-a644-4db3-fb52-c21799304b67"
      },
      "execution_count": 3,
      "outputs": [
        {
          "output_type": "stream",
          "name": "stdout",
          "text": [
            "Archive:  store-sales-time-series-forecasting.zip\n",
            "replace holidays_events.csv? [y]es, [n]o, [A]ll, [N]one, [r]ename: No\n"
          ]
        }
      ]
    },
    {
      "cell_type": "markdown",
      "source": [
        "\n",
        "\n",
        "# Load Data"
      ],
      "metadata": {
        "id": "Ib7dnFnW47eA"
      }
    },
    {
      "cell_type": "markdown",
      "source": [
        "Import the necessary libraries for EDA, visualization, and data manipulation"
      ],
      "metadata": {
        "id": "MP5eu3zsMmfZ"
      }
    },
    {
      "cell_type": "code",
      "source": [
        "import numpy as np\n",
        "import pandas as pd\n",
        "import matplotlib.pyplot as plt\n",
        "import seaborn as sns\n"
      ],
      "metadata": {
        "id": "hV_VXb0pMbf6"
      },
      "execution_count": 4,
      "outputs": []
    },
    {
      "cell_type": "markdown",
      "source": [
        "Load the data into pandas DataFrames"
      ],
      "metadata": {
        "id": "GCKtCRhsMgFz"
      }
    },
    {
      "cell_type": "code",
      "source": [
        "holidays_events = pd.read_csv('holidays_events.csv')\n",
        "oil = pd.read_csv('oil.csv')\n",
        "sample_submission = pd.read_csv('sample_submission.csv')\n",
        "stores = pd.read_csv('stores.csv')\n",
        "test = pd.read_csv('test.csv')\n",
        "train = pd.read_csv('train.csv')\n",
        "transactions = pd.read_csv('transactions.csv')"
      ],
      "metadata": {
        "id": "YN91wN20MiLK"
      },
      "execution_count": 5,
      "outputs": []
    },
    {
      "cell_type": "markdown",
      "source": [
        "Let's start with some basic EDA by checking the shape, data types, and summary statistics of the data"
      ],
      "metadata": {
        "id": "K8UdAK0LMs-5"
      }
    },
    {
      "cell_type": "code",
      "source": [
        "# List of dataframes and their names for easy iteration\n",
        "dataframes = [\n",
        "    (holidays_events, \"holidays_events\"),\n",
        "    (oil, \"oil\"),\n",
        "    (stores, \"stores\"),\n",
        "    (test, \"test\"),\n",
        "    (train, \"train\"),\n",
        "    (transactions, \"transactions\"),\n",
        "]\n",
        "\n",
        "# Print basic information for each dataframe\n",
        "for df, name in dataframes:\n",
        "    print(f\"{name.upper()} DATA\")\n",
        "    print(\"Shape:\", df.shape)\n",
        "    print(\"\\nData Types:\")\n",
        "    print(df.dtypes)\n",
        "    print(\"\\nSummary Statistics:\")\n",
        "    print(df.describe(include='all'))\n",
        "    print(\"\\n\")\n"
      ],
      "metadata": {
        "colab": {
          "base_uri": "https://localhost:8080/"
        },
        "id": "s4bSSxa-MtUp",
        "outputId": "fdd3134d-6af8-4465-9163-ef5382bb8093"
      },
      "execution_count": 6,
      "outputs": [
        {
          "output_type": "stream",
          "name": "stdout",
          "text": [
            "HOLIDAYS_EVENTS DATA\n",
            "Shape: (350, 6)\n",
            "\n",
            "Data Types:\n",
            "date           object\n",
            "type           object\n",
            "locale         object\n",
            "locale_name    object\n",
            "description    object\n",
            "transferred      bool\n",
            "dtype: object\n",
            "\n",
            "Summary Statistics:\n",
            "              date     type    locale locale_name description transferred\n",
            "count          350      350       350         350         350         350\n",
            "unique         312        6         3          24         103           2\n",
            "top     2014-06-25  Holiday  National     Ecuador    Carnaval       False\n",
            "freq             4      221       174         174          10         338\n",
            "\n",
            "\n",
            "OIL DATA\n",
            "Shape: (1218, 2)\n",
            "\n",
            "Data Types:\n",
            "date           object\n",
            "dcoilwtico    float64\n",
            "dtype: object\n",
            "\n",
            "Summary Statistics:\n",
            "              date   dcoilwtico\n",
            "count         1218  1175.000000\n",
            "unique        1218          NaN\n",
            "top     2013-01-01          NaN\n",
            "freq             1          NaN\n",
            "mean           NaN    67.714366\n",
            "std            NaN    25.630476\n",
            "min            NaN    26.190000\n",
            "25%            NaN    46.405000\n",
            "50%            NaN    53.190000\n",
            "75%            NaN    95.660000\n",
            "max            NaN   110.620000\n",
            "\n",
            "\n",
            "STORES DATA\n",
            "Shape: (54, 5)\n",
            "\n",
            "Data Types:\n",
            "store_nbr     int64\n",
            "city         object\n",
            "state        object\n",
            "type         object\n",
            "cluster       int64\n",
            "dtype: object\n",
            "\n",
            "Summary Statistics:\n",
            "        store_nbr   city      state type    cluster\n",
            "count   54.000000     54         54   54  54.000000\n",
            "unique        NaN     22         16    5        NaN\n",
            "top           NaN  Quito  Pichincha    D        NaN\n",
            "freq          NaN     18         19   18        NaN\n",
            "mean    27.500000    NaN        NaN  NaN   8.481481\n",
            "std     15.732133    NaN        NaN  NaN   4.693395\n",
            "min      1.000000    NaN        NaN  NaN   1.000000\n",
            "25%     14.250000    NaN        NaN  NaN   4.000000\n",
            "50%     27.500000    NaN        NaN  NaN   8.500000\n",
            "75%     40.750000    NaN        NaN  NaN  13.000000\n",
            "max     54.000000    NaN        NaN  NaN  17.000000\n",
            "\n",
            "\n",
            "TEST DATA\n",
            "Shape: (28512, 5)\n",
            "\n",
            "Data Types:\n",
            "id              int64\n",
            "date           object\n",
            "store_nbr       int64\n",
            "family         object\n",
            "onpromotion     int64\n",
            "dtype: object\n",
            "\n",
            "Summary Statistics:\n",
            "                  id        date     store_nbr      family   onpromotion\n",
            "count   2.851200e+04       28512  28512.000000       28512  28512.000000\n",
            "unique           NaN          16           NaN          33           NaN\n",
            "top              NaN  2017-08-16           NaN  AUTOMOTIVE           NaN\n",
            "freq             NaN        1782           NaN         864           NaN\n",
            "mean    3.015144e+06         NaN     27.500000         NaN      6.965383\n",
            "std     8.230850e+03         NaN     15.586057         NaN     20.683952\n",
            "min     3.000888e+06         NaN      1.000000         NaN      0.000000\n",
            "25%     3.008016e+06         NaN     14.000000         NaN      0.000000\n",
            "50%     3.015144e+06         NaN     27.500000         NaN      0.000000\n",
            "75%     3.022271e+06         NaN     41.000000         NaN      6.000000\n",
            "max     3.029399e+06         NaN     54.000000         NaN    646.000000\n",
            "\n",
            "\n",
            "TRAIN DATA\n",
            "Shape: (3000888, 6)\n",
            "\n",
            "Data Types:\n",
            "id               int64\n",
            "date            object\n",
            "store_nbr        int64\n",
            "family          object\n",
            "sales          float64\n",
            "onpromotion      int64\n",
            "dtype: object\n",
            "\n",
            "Summary Statistics:\n",
            "                  id        date     store_nbr      family         sales  \\\n",
            "count   3.000888e+06     3000888  3.000888e+06     3000888  3.000888e+06   \n",
            "unique           NaN        1684           NaN          33           NaN   \n",
            "top              NaN  2013-01-01           NaN  AUTOMOTIVE           NaN   \n",
            "freq             NaN        1782           NaN       90936           NaN   \n",
            "mean    1.500444e+06         NaN  2.750000e+01         NaN  3.577757e+02   \n",
            "std     8.662819e+05         NaN  1.558579e+01         NaN  1.101998e+03   \n",
            "min     0.000000e+00         NaN  1.000000e+00         NaN  0.000000e+00   \n",
            "25%     7.502218e+05         NaN  1.400000e+01         NaN  0.000000e+00   \n",
            "50%     1.500444e+06         NaN  2.750000e+01         NaN  1.100000e+01   \n",
            "75%     2.250665e+06         NaN  4.100000e+01         NaN  1.958473e+02   \n",
            "max     3.000887e+06         NaN  5.400000e+01         NaN  1.247170e+05   \n",
            "\n",
            "         onpromotion  \n",
            "count   3.000888e+06  \n",
            "unique           NaN  \n",
            "top              NaN  \n",
            "freq             NaN  \n",
            "mean    2.602770e+00  \n",
            "std     1.221888e+01  \n",
            "min     0.000000e+00  \n",
            "25%     0.000000e+00  \n",
            "50%     0.000000e+00  \n",
            "75%     0.000000e+00  \n",
            "max     7.410000e+02  \n",
            "\n",
            "\n",
            "TRANSACTIONS DATA\n",
            "Shape: (83488, 3)\n",
            "\n",
            "Data Types:\n",
            "date            object\n",
            "store_nbr        int64\n",
            "transactions     int64\n",
            "dtype: object\n",
            "\n",
            "Summary Statistics:\n",
            "              date     store_nbr  transactions\n",
            "count        83488  83488.000000  83488.000000\n",
            "unique        1682           NaN           NaN\n",
            "top     2017-08-15           NaN           NaN\n",
            "freq            54           NaN           NaN\n",
            "mean           NaN     26.939237   1694.602158\n",
            "std            NaN     15.608204    963.286644\n",
            "min            NaN      1.000000      5.000000\n",
            "25%            NaN     13.000000   1046.000000\n",
            "50%            NaN     27.000000   1393.000000\n",
            "75%            NaN     40.000000   2079.000000\n",
            "max            NaN     54.000000   8359.000000\n",
            "\n",
            "\n"
          ]
        }
      ]
    },
    {
      "cell_type": "markdown",
      "source": [
        "# EDA"
      ],
      "metadata": {
        "id": "_4stTTLUNO7U"
      }
    },
    {
      "cell_type": "markdown",
      "source": [
        "Let's start by visualizing the distribution of sales in the train dataset. This will give us a better understanding of the overall sales pattern"
      ],
      "metadata": {
        "id": "ETT7LZaUNIKk"
      }
    },
    {
      "cell_type": "code",
      "source": [
        "plt.figure(figsize=(10, 6))\n",
        "sns.histplot(train['sales'], bins=50, kde=True)\n",
        "plt.xlabel('Sales')\n",
        "plt.ylabel('Frequency')\n",
        "plt.title('Distribution of Sales')\n",
        "plt.show()\n"
      ],
      "metadata": {
        "colab": {
          "base_uri": "https://localhost:8080/",
          "height": 404
        },
        "id": "HSzBzO2NNKjJ",
        "outputId": "35992412-6e2e-49a5-ac99-c9860c09dd70"
      },
      "execution_count": 7,
      "outputs": [
        {
          "output_type": "display_data",
          "data": {
            "text/plain": [
              "<Figure size 720x432 with 1 Axes>"
            ],
            "image/png": "[encoded data removed]"
          },
          "metadata": {
            "needs_background": "light"
          }
        }
      ]
    },
    {
      "cell_type": "markdown",
      "source": [
        "Result: In summary, the sales distribution is heavily right-skewed, with most product families having relatively low sales and only a few product families achieving very high sales"
      ],
      "metadata": {
        "id": "ElViAZwBL_vS"
      }
    },
    {
      "cell_type": "markdown",
      "source": [
        "Let's apply the log transformation to the sales column and visualize the new distribution"
      ],
      "metadata": {
        "id": "MlnTm3QcOLOy"
      }
    },
    {
      "cell_type": "code",
      "source": [
        "train['log_sales'] = np.log1p(train['sales'])\n",
        "\n",
        "plt.figure(figsize=(10, 6))\n",
        "sns.histplot(train['log_sales'], bins=50, kde=True)\n",
        "plt.xlabel('Log(Sales + 1)')\n",
        "plt.ylabel('Frequency')\n",
        "plt.title('Distribution of Log-transformed Sales')\n",
        "plt.show()\n"
      ],
      "metadata": {
        "colab": {
          "base_uri": "https://localhost:8080/",
          "height": 404
        },
        "id": "mPBPMaM0N1Ud",
        "outputId": "149e3e7e-008a-42b1-a434-59a483f1ebd9"
      },
      "execution_count": 8,
      "outputs": [
        {
          "output_type": "display_data",
          "data": {
            "text/plain": [
              "<Figure size 720x432 with 1 Axes>"
            ],
            "image/png": "[encoded data removed]"
          },
          "metadata": {
            "needs_background": "light"
          }
        }
      ]
    },
    {
      "cell_type": "markdown",
      "source": [
        "Create bins and visualize average sales by the number of items on promotion"
      ],
      "metadata": {
        "id": "D1elt8C-OoFC"
      }
    },
    {
      "cell_type": "code",
      "source": [
        "# Create bins for the number of items on promotion\n",
        "promotion_sales = train.groupby('onpromotion')['sales'].sum().reset_index()\n",
        "promotion_counts = train['onpromotion'].value_counts().reset_index()\n",
        "promotion_counts.columns = ['onpromotion', 'count']\n",
        "\n",
        "promotion_sales = promotion_sales.merge(promotion_counts, on='onpromotion')\n",
        "promotion_sales['average_sales'] = promotion_sales['sales'] / promotion_sales['count']\n",
        "\n",
        "\n",
        "\n",
        "bins = [0, 50, 100, 200, 300, 400, 500, 600, 700, 800]\n",
        "promotion_sales['binned'] = pd.cut(promotion_sales['onpromotion'], bins)\n",
        "\n",
        "# Calculate average sales for each bin\n",
        "binned_sales = promotion_sales.groupby('binned')['sales'].sum().reset_index()\n",
        "binned_counts = promotion_sales.groupby('binned')['count'].sum().reset_index()\n",
        "\n",
        "binned_sales = binned_sales.merge(binned_counts, on='binned')\n",
        "binned_sales['average_sales'] = binned_sales['sales'] / binned_sales['count']\n",
        "\n",
        "# Plot the average sales by the number of items on promotion in each bin\n",
        "plt.figure(figsize=(10, 6))\n",
        "sns.barplot(x='binned', y='average_sales', data=binned_sales)\n",
        "plt.xlabel('Items on Promotion (Bins)')\n",
        "plt.ylabel('Average Sales')\n",
        "plt.title('Average Sales by Number of Items on Promotion')\n",
        "plt.xticks(rotation=45)\n",
        "plt.show()\n"
      ],
      "metadata": {
        "colab": {
          "base_uri": "https://localhost:8080/",
          "height": 438
        },
        "id": "V4eKYjaKOqME",
        "outputId": "7f2b38e4-dc7c-464b-ec78-86023da4e909"
      },
      "execution_count": 9,
      "outputs": [
        {
          "output_type": "display_data",
          "data": {
            "text/plain": [
              "<Figure size 720x432 with 1 Axes>"
            ],
            "image/png": "[encoded data removed]"
          },
          "metadata": {
            "needs_background": "light"
          }
        }
      ]
    },
    {
      "cell_type": "code",
      "source": [
        "binned_sales"
      ],
      "metadata": {
        "colab": {
          "base_uri": "https://localhost:8080/",
          "height": 331
        },
        "id": "e-Qe0mz_NvXi",
        "outputId": "b7cdfe05-d236-47f9-afa3-20aa9add7fc7"
      },
      "execution_count": 10,
      "outputs": [
        {
          "output_type": "execute_result",
          "data": {
            "text/plain": [
              "       binned         sales   count  average_sales\n",
              "0     (0, 50]  5.670906e+08  575058     986.145113\n",
              "1   (50, 100]  9.029565e+07   27355    3300.882681\n",
              "2  (100, 200]  2.767065e+07    7305    3787.905058\n",
              "3  (200, 300]  1.008739e+07    1518    6645.186823\n",
              "4  (300, 400]  7.269000e+04      21    3461.428571\n",
              "5  (400, 500]  6.880200e+04      25    2752.080000\n",
              "6  (500, 600]  5.702900e+04      14    4073.500000\n",
              "7  (600, 700]  9.293737e+04      22    4224.425773\n",
              "8  (700, 800]  6.939000e+04      11    6308.181818"
            ],
            "text/html": [
              "\n",
              "  <div id=\"df-cacd7193-3ef3-4f80-bd85-c007e77925b6\">\n",
              "    <div class=\"colab-df-container\">\n",
              "      <div>\n",
              "<style scoped>\n",
              "    .dataframe tbody tr th:only-of-type {\n",
              "        vertical-align: middle;\n",
              "    }\n",
              "\n",
              "    .dataframe tbody tr th {\n",
              "        vertical-align: top;\n",
              "    }\n",
              "\n",
              "    .dataframe thead th {\n",
              "        text-align: right;\n",
              "    }\n",
              "</style>\n",
              "<table border=\"1\" class=\"dataframe\">\n",
              "  <thead>\n",
              "    <tr style=\"text-align: right;\">\n",
              "      <th></th>\n",
              "      <th>binned</th>\n",
              "      <th>sales</th>\n",
              "      <th>count</th>\n",
              "      <th>average_sales</th>\n",
              "    </tr>\n",
              "  </thead>\n",
              "  <tbody>\n",
              "    <tr>\n",
              "      <th>0</th>\n",
              "      <td>(0, 50]</td>\n",
              "      <td>5.670906e+08</td>\n",
              "      <td>575058</td>\n",
              "      <td>986.145113</td>\n",
              "    </tr>\n",
              "    <tr>\n",
              "      <th>1</th>\n",
              "      <td>(50, 100]</td>\n",
              "      <td>9.029565e+07</td>\n",
              "      <td>27355</td>\n",
              "      <td>3300.882681</td>\n",
              "    </tr>\n",
              "    <tr>\n",
              "      <th>2</th>\n",
              "      <td>(100, 200]</td>\n",
              "      <td>2.767065e+07</td>\n",
              "      <td>7305</td>\n",
              "      <td>3787.905058</td>\n",
              "    </tr>\n",
              "    <tr>\n",
              "      <th>3</th>\n",
              "      <td>(200, 300]</td>\n",
              "      <td>1.008739e+07</td>\n",
              "      <td>1518</td>\n",
              "      <td>6645.186823</td>\n",
              "    </tr>\n",
              "    <tr>\n",
              "      <th>4</th>\n",
              "      <td>(300, 400]</td>\n",
              "      <td>7.269000e+04</td>\n",
              "      <td>21</td>\n",
              "      <td>3461.428571</td>\n",
              "    </tr>\n",
              "    <tr>\n",
              "      <th>5</th>\n",
              "      <td>(400, 500]</td>\n",
              "      <td>6.880200e+04</td>\n",
              "      <td>25</td>\n",
              "      <td>2752.080000</td>\n",
              "    </tr>\n",
              "    <tr>\n",
              "      <th>6</th>\n",
              "      <td>(500, 600]</td>\n",
              "      <td>5.702900e+04</td>\n",
              "      <td>14</td>\n",
              "      <td>4073.500000</td>\n",
              "    </tr>\n",
              "    <tr>\n",
              "      <th>7</th>\n",
              "      <td>(600, 700]</td>\n",
              "      <td>9.293737e+04</td>\n",
              "      <td>22</td>\n",
              "      <td>4224.425773</td>\n",
              "    </tr>\n",
              "    <tr>\n",
              "      <th>8</th>\n",
              "      <td>(700, 800]</td>\n",
              "      <td>6.939000e+04</td>\n",
              "      <td>11</td>\n",
              "      <td>6308.181818</td>\n",
              "    </tr>\n",
              "  </tbody>\n",
              "</table>\n",
              "</div>\n",
              "      <button class=\"colab-df-convert\" onclick=\"convertToInteractive('df-cacd7193-3ef3-4f80-bd85-c007e77925b6')\"\n",
              "              title=\"Convert this dataframe to an interactive table.\"\n",
              "              style=\"display:none;\">\n",
              "        \n",
              "  <svg xmlns=\"http://www.w3.org/2000/svg\" height=\"24px\"viewBox=\"0 0 24 24\"\n",
              "       width=\"24px\">\n",
              "    <path d=\"M0 0h24v24H0V0z\" fill=\"none\"/>\n",
              "    <path d=\"M18.56 5.44l.94 2.06.94-2.06 2.06-.94-2.06-.94-.94-2.06-.94 2.06-2.06.94zm-11 1L8.5 8.5l.94-2.06 2.06-.94-2.06-.94L8.5 2.5l-.94 2.06-2.06.94zm10 10l.94 2.06.94-2.06 2.06-.94-2.06-.94-.94-2.06-.94 2.06-2.06.94z\"/><path d=\"M17.41 7.96l-1.37-1.37c-.4-.4-.92-.59-1.43-.59-.52 0-1.04.2-1.43.59L10.3 9.45l-7.72 7.72c-.78.78-.78 2.05 0 2.83L4 21.41c.39.39.9.59 1.41.59.51 0 1.02-.2 1.41-.59l7.78-7.78 2.81-2.81c.8-.78.8-2.07 0-2.86zM5.41 20L4 18.59l7.72-7.72 1.47 1.35L5.41 20z\"/>\n",
              "  </svg>\n",
              "      </button>\n",
              "      \n",
              "  <style>\n",
              "    .colab-df-container {\n",
              "      display:flex;\n",
              "      flex-wrap:wrap;\n",
              "      gap: 12px;\n",
              "    }\n",
              "\n",
              "    .colab-df-convert {\n",
              "      background-color: #E8F0FE;\n",
              "      border: none;\n",
              "      border-radius: 50%;\n",
              "      cursor: pointer;\n",
              "      display: none;\n",
              "      fill: #1967D2;\n",
              "      height: 32px;\n",
              "      padding: 0 0 0 0;\n",
              "      width: 32px;\n",
              "    }\n",
              "\n",
              "    .colab-df-convert:hover {\n",
              "      background-color: #E2EBFA;\n",
              "      box-shadow: 0px 1px 2px rgba(60, 64, 67, 0.3), 0px 1px 3px 1px rgba(60, 64, 67, 0.15);\n",
              "      fill: #174EA6;\n",
              "    }\n",
              "\n",
              "    [theme=dark] .colab-df-convert {\n",
              "      background-color: #3B4455;\n",
              "      fill: #D2E3FC;\n",
              "    }\n",
              "\n",
              "    [theme=dark] .colab-df-convert:hover {\n",
              "      background-color: #434B5C;\n",
              "      box-shadow: 0px 1px 3px 1px rgba(0, 0, 0, 0.15);\n",
              "      filter: drop-shadow(0px 1px 2px rgba(0, 0, 0, 0.3));\n",
              "      fill: #FFFFFF;\n",
              "    }\n",
              "  </style>\n",
              "\n",
              "      <script>\n",
              "        const buttonEl =\n",
              "          document.querySelector('#df-cacd7193-3ef3-4f80-bd85-c007e77925b6 button.colab-df-convert');\n",
              "        buttonEl.style.display =\n",
              "          google.colab.kernel.accessAllowed ? 'block' : 'none';\n",
              "\n",
              "        async function convertToInteractive(key) {\n",
              "          const element = document.querySelector('#df-cacd7193-3ef3-4f80-bd85-c007e77925b6');\n",
              "          const dataTable =\n",
              "            await google.colab.kernel.invokeFunction('convertToInteractive',\n",
              "                                                     [key], {});\n",
              "          if (!dataTable) return;\n",
              "\n",
              "          const docLinkHtml = 'Like what you see? Visit the ' +\n",
              "            '<a target=\"_blank\" href=https://colab.research.google.com/notebooks/data_table.ipynb>data table notebook</a>'\n",
              "            + ' to learn more about interactive tables.';\n",
              "          element.innerHTML = '';\n",
              "          dataTable['output_type'] = 'display_data';\n",
              "          await google.colab.output.renderOutput(dataTable, element);\n",
              "          const docLink = document.createElement('div');\n",
              "          docLink.innerHTML = docLinkHtml;\n",
              "          element.appendChild(docLink);\n",
              "        }\n",
              "      </script>\n",
              "    </div>\n",
              "  </div>\n",
              "  "
            ]
          },
          "metadata": {},
          "execution_count": 10
        }
      ]
    },
    {
      "cell_type": "markdown",
      "source": [
        "Investigate the relationship between store attributes (city, state, type, and cluster) and sales"
      ],
      "metadata": {
        "id": "u7p__agLRJ46"
      }
    },
    {
      "cell_type": "code",
      "source": [
        "train_stores = train.merge(stores, on=\"store_nbr\")\n",
        "\n",
        "# Average sales by city\n",
        "city_sales = train_stores.groupby(\"city\")[\"sales\"].mean().sort_values(ascending=False)\n",
        "\n",
        "# Average sales by state\n",
        "state_sales = train_stores.groupby(\"state\")[\"sales\"].mean().sort_values(ascending=False)\n",
        "\n",
        "# Average sales by store type\n",
        "type_sales = train_stores.groupby(\"type\")[\"sales\"].mean().sort_values(ascending=False)\n",
        "\n",
        "# Average sales by store cluster\n",
        "cluster_sales = train_stores.groupby(\"cluster\")[\"sales\"].mean().sort_values(ascending=False)\n",
        "\n",
        "# Plot the results\n",
        "fig, axes = plt.subplots(2, 2, figsize=(15, 10))\n",
        "\n",
        "city_sales.plot(kind=\"bar\", ax=axes[0, 0], title=\"Average Sales by City\")\n",
        "state_sales.plot(kind=\"bar\", ax=axes[0, 1], title=\"Average Sales by State\")\n",
        "type_sales.plot(kind=\"bar\", ax=axes[1, 0], title=\"Average Sales by Store Type\")\n",
        "cluster_sales.plot(kind=\"bar\", ax=axes[1, 1], title=\"Average Sales by Store Cluster\")\n",
        "\n",
        "plt.tight_layout()\n",
        "plt.show()\n"
      ],
      "metadata": {
        "colab": {
          "base_uri": "https://localhost:8080/",
          "height": 729
        },
        "id": "nPVSrUySRKfp",
        "outputId": "b23412a0-efba-4039-8c4e-8510158f8628"
      },
      "execution_count": 11,
      "outputs": [
        {
          "output_type": "display_data",
          "data": {
            "text/plain": [
              "<Figure size 1080x720 with 4 Axes>"
            ],
            "image/png": "[encoded data removed]"
          },
          "metadata": {
            "needs_background": "light"
          }
        }
      ]
    },
    {
      "cell_type": "markdown",
      "source": [
        "Analyzing the Effect of Holidays and Events on Sales"
      ],
      "metadata": {
        "id": "Wc_WVLFe1bYE"
      }
    },
    {
      "cell_type": "code",
      "source": [
        "# Step 1: Convert the 'date' column to a datetime data type\n",
        "train_stores['date'] = pd.to_datetime(train_stores['date'])\n",
        "holidays_events['date'] = pd.to_datetime(holidays_events['date'])\n",
        "\n",
        "# Step 2: Merge the train_stores and holidays_events datasets on the 'date' column\n",
        "train_stores_holidays = train_stores.merge(holidays_events, on='date', how='left')\n",
        "\n",
        "# Marking rows as holiday or non-holiday\n",
        "train_stores_holidays['is_holiday'] = train_stores_holidays['type_y'].apply(lambda x: 1 if x == 'Holiday' else 0)\n",
        "\n",
        "# Calculate average sales for holidays and non-holidays\n",
        "average_sales_holiday = train_stores_holidays[train_stores_holidays['is_holiday'] == 1]['sales'].mean()\n",
        "average_sales_non_holiday = train_stores_holidays[train_stores_holidays['is_holiday'] == 0]['sales'].mean()\n",
        "\n",
        "print(f\"Average sales on holidays: {average_sales_holiday}\")\n",
        "print(f\"Average sales on non-holidays: {average_sales_non_holiday}\")\n",
        "\n",
        "# Grouping data by event type and calculating average sales\n",
        "event_sales = train_stores_holidays.groupby('type_y')['sales'].mean().reset_index().sort_values(by='sales', ascending=False)\n",
        "\n",
        "print(event_sales)\n"
      ],
      "metadata": {
        "colab": {
          "base_uri": "https://localhost:8080/"
        },
        "id": "uW8jVF9D1b52",
        "outputId": "d6c07bf7-894d-47a0-f9d0-26f2505abcff"
      },
      "execution_count": 12,
      "outputs": [
        {
          "output_type": "stream",
          "name": "stdout",
          "text": [
            "Average sales on holidays: 358.4338115476292\n",
            "Average sales on non-holidays: 359.0859543384566\n",
            "       type_y       sales\n",
            "0  Additional  487.628925\n",
            "4    Transfer  467.753110\n",
            "1      Bridge  446.750854\n",
            "2       Event  425.660065\n",
            "5    Work Day  372.157524\n",
            "3     Holiday  358.433812\n"
          ]
        }
      ]
    },
    {
      "cell_type": "markdown",
      "source": [
        "result:\n",
        "\n",
        "Additional: 487.63\n",
        "\n",
        "*   These are days when additional holidays are declared. Sales on these days have the highest average among all event types.\n",
        "\n",
        "\n",
        "Transfer: 467.75\n",
        "\n",
        "*   These are days when a holiday is transferred from its original date. Sales on these days have the second-highest average among all event types.\n",
        "\n",
        "Bridge: 446.75\n",
        "\n",
        "*   These are days when a \"bridge\" holiday is declared to create a long weekend. Sales on these days have the third-highest average among all event types.\n",
        "\n",
        "Event: 425.66\n",
        "\n",
        "*   These are special event days (e.g., local celebrations). Sales on these days have the fourth-highest average among all event types.\n",
        "\n",
        "Work Day: 372.16\n",
        "\n",
        "*   These are days when a workday is scheduled on a weekend to make up for a holiday. Sales on these days have the fifth-highest average among all event types.\n",
        "\n",
        "Holiday: 358.43\n",
        "\n",
        "*   These are regular holiday days, as mentioned earlier. Sales on these days have the lowest average among all event types.\n"
      ],
      "metadata": {
        "id": "yqcAZhqKO0Tb"
      }
    },
    {
      "cell_type": "markdown",
      "source": [
        "# Data Preperation"
      ],
      "metadata": {
        "id": "9h3GhOn03qPf"
      }
    },
    {
      "cell_type": "markdown",
      "source": [
        "Merging data"
      ],
      "metadata": {
        "id": "wwn5oatI4J3_"
      }
    },
    {
      "cell_type": "code",
      "source": [
        "train['date'] = pd.to_datetime(train['date'])\n",
        "holidays_events['date'] = pd.to_datetime(holidays_events['date'])\n",
        "oil['date'] = pd.to_datetime(oil['date'])\n",
        "transactions['date'] = pd.to_datetime(transactions['date'])\n",
        "\n",
        "train_stores = train.merge(stores, on='store_nbr', how='left')\n",
        "train_stores_holidays = train_stores.merge(holidays_events, on='date', how='left')\n",
        "\n",
        "train_stores_holidays_oil = train_stores_holidays.merge(oil, on='date', how='left')\n",
        "\n",
        "train_stores_holidays_oil_transactions = train_stores_holidays_oil.merge(transactions, on=['date', 'store_nbr'], how='left')\n"
      ],
      "metadata": {
        "id": "4aXmuHZ73toZ"
      },
      "execution_count": 13,
      "outputs": []
    },
    {
      "cell_type": "code",
      "source": [
        "missing_values = train_stores_holidays_oil_transactions.isnull().sum()\n",
        "print(missing_values)\n"
      ],
      "metadata": {
        "colab": {
          "base_uri": "https://localhost:8080/"
        },
        "id": "EhnIFtxf4sue",
        "outputId": "6787e5e0-b7ae-46c8-9e3c-c9e764184c73"
      },
      "execution_count": 14,
      "outputs": [
        {
          "output_type": "stream",
          "name": "stdout",
          "text": [
            "id                    0\n",
            "date                  0\n",
            "store_nbr             0\n",
            "family                0\n",
            "sales                 0\n",
            "onpromotion           0\n",
            "log_sales             0\n",
            "city                  0\n",
            "state                 0\n",
            "type_x                0\n",
            "cluster               0\n",
            "type_y          2551824\n",
            "locale          2551824\n",
            "locale_name     2551824\n",
            "description     2551824\n",
            "transferred     2551824\n",
            "dcoilwtico       955152\n",
            "transactions     249117\n",
            "dtype: int64\n"
          ]
        }
      ]
    },
    {
      "cell_type": "markdown",
      "source": [
        "Missing value Analysis\n",
        "\n",
        "\n",
        "\n",
        "> dcoilwtico: This column represents oil prices. Missing values here might mean the data for those dates was not available. You can choose to interpolate the missing values (linear interpolation, for example), use forward or backward fill, or fill them with the mean or median value of the column, depending on the specific requirements of your analysis.\n",
        "\n"
      ],
      "metadata": {
        "id": "DDWUOaBhR_ma"
      }
    },
    {
      "cell_type": "code",
      "source": [
        "# Fill missing oil prices with forward/backward fill method\n",
        "train_stores_holidays_oil_transactions['dcoilwtico'].fillna(method='ffill', inplace=True)\n",
        "train_stores_holidays_oil_transactions['dcoilwtico'].fillna(method='bfill', inplace=True)"
      ],
      "metadata": {
        "id": "-EUMbw4LSPXx"
      },
      "execution_count": 15,
      "outputs": []
    },
    {
      "cell_type": "code",
      "source": [
        "train_stores_holidays_oil_transactions['dcoilwtico'].hist()"
      ],
      "metadata": {
        "colab": {
          "base_uri": "https://localhost:8080/",
          "height": 293
        },
        "id": "qwjzWWNdS8tq",
        "outputId": "0703cff8-2eef-4c06-a4a2-aeaa9e06403b"
      },
      "execution_count": 16,
      "outputs": [
        {
          "output_type": "execute_result",
          "data": {
            "text/plain": [
              "<Axes: >"
            ]
          },
          "metadata": {},
          "execution_count": 16
        },
        {
          "output_type": "display_data",
          "data": {
            "text/plain": [
              "<Figure size 432x288 with 1 Axes>"
            ],
            "image/png": "[encoded data removed]"
          },
          "metadata": {
            "needs_background": "light"
          }
        }
      ]
    },
    {
      "cell_type": "markdown",
      "source": [
        "\n",
        "\n",
        "> transactions: This column represents the number of transactions in a store on a particular date. Missing values here might indicate a lack of data for those dates. You could fill these missing values with the mean or median number of transactions for each store or use more advanced techniques such as time-series forecasting to estimate the missing values.\n",
        "\n"
      ],
      "metadata": {
        "id": "r2xd9ZubUXBo"
      }
    },
    {
      "cell_type": "code",
      "source": [
        "# Fill missing transactions with the median number of transactions for each store\n",
        "store_median_transactions = train_stores_holidays_oil_transactions.groupby('store_nbr')['transactions'].median()\n",
        "train_stores_holidays_oil_transactions['transactions'] = train_stores_holidays_oil_transactions.apply(\n",
        "    lambda row: store_median_transactions[row['store_nbr']] if pd.isnull(row['transactions']) else row['transactions'],\n",
        "    axis=1\n",
        ")"
      ],
      "metadata": {
        "id": "y02spFfDUY84"
      },
      "execution_count": 17,
      "outputs": []
    },
    {
      "cell_type": "code",
      "source": [
        "missing_values = train_stores_holidays_oil_transactions.isnull().sum()\n",
        "print(missing_values)"
      ],
      "metadata": {
        "colab": {
          "base_uri": "https://localhost:8080/"
        },
        "id": "t2GVT0GLUkly",
        "outputId": "da27b81a-c7f2-463d-822e-5fec473d5086"
      },
      "execution_count": 18,
      "outputs": [
        {
          "output_type": "stream",
          "name": "stdout",
          "text": [
            "id                    0\n",
            "date                  0\n",
            "store_nbr             0\n",
            "family                0\n",
            "sales                 0\n",
            "onpromotion           0\n",
            "log_sales             0\n",
            "city                  0\n",
            "state                 0\n",
            "type_x                0\n",
            "cluster               0\n",
            "type_y          2551824\n",
            "locale          2551824\n",
            "locale_name     2551824\n",
            "description     2551824\n",
            "transferred     2551824\n",
            "dcoilwtico            0\n",
            "transactions          0\n",
            "dtype: int64\n"
          ]
        }
      ]
    },
    {
      "cell_type": "markdown",
      "source": [
        "\n",
        "\n",
        "> type_y, locale, locale_name, description, and transferred: These columns are related to holidays_events data. The missing values here probably indicate that there was no holiday or event on those dates. You can create a new binary column, for example, is_holiday_or_event, where you set the value to 1 if there's a holiday/event on that date and 0 otherwise. You can then drop the original holiday/event columns if they are not required for further analysis.\n",
        "\n"
      ],
      "metadata": {
        "id": "UsMdUL84UzUL"
      }
    },
    {
      "cell_type": "code",
      "source": [
        "# Create 'is_holiday_or_event' column and drop original holiday/event columns\n",
        "train_stores_holidays_oil_transactions['is_holiday_or_event'] = train_stores_holidays_oil_transactions['type_y'].notnull().astype(int)\n",
        "train_stores_holidays_oil_transactions.drop(['type_y', 'locale', 'locale_name', 'description', 'transferred'], axis=1, inplace=True)"
      ],
      "metadata": {
        "id": "AAVXqZaJU1vr"
      },
      "execution_count": 19,
      "outputs": []
    },
    {
      "cell_type": "code",
      "source": [
        "missing_values = train_stores_holidays_oil_transactions.isnull().sum()\n",
        "print(missing_values)"
      ],
      "metadata": {
        "colab": {
          "base_uri": "https://localhost:8080/"
        },
        "id": "oGCbnG5JVAzs",
        "outputId": "c95134ed-7720-4f6c-af36-e21531ef7b2c"
      },
      "execution_count": 20,
      "outputs": [
        {
          "output_type": "stream",
          "name": "stdout",
          "text": [
            "id                     0\n",
            "date                   0\n",
            "store_nbr              0\n",
            "family                 0\n",
            "sales                  0\n",
            "onpromotion            0\n",
            "log_sales              0\n",
            "city                   0\n",
            "state                  0\n",
            "type_x                 0\n",
            "cluster                0\n",
            "dcoilwtico             0\n",
            "transactions           0\n",
            "is_holiday_or_event    0\n",
            "dtype: int64\n"
          ]
        }
      ]
    },
    {
      "cell_type": "markdown",
      "source": [
        "##Seasonality analysis"
      ],
      "metadata": {
        "id": "dcDQv-wh6RoV"
      }
    },
    {
      "cell_type": "code",
      "source": [
        "#Aggregate the data by date and family to obtain the total sales for each family on a given day.\n",
        "aggregated_data = train_stores_holidays_oil_transactions.groupby(['date', 'family'])['sales'].sum().reset_index()\n",
        "\n",
        "#Filter the data for a specific product family. For example, if you want to analyze the sales of the 'AUTOMOTIVE' family.\n",
        "family_data = aggregated_data[aggregated_data['family'] == 'AUTOMOTIVE']\n",
        "\n",
        "#Set the 'date' as the index for the time series analysis.\n",
        "family_data = family_data.set_index('date')\n",
        "\n",
        "# Plot the time series data to visualize the trend and seasonality.\n",
        "plt.figure(figsize=(15, 6))\n",
        "plt.plot(family_data['sales'])\n",
        "plt.xlabel('Date')\n",
        "plt.ylabel('Sales')\n",
        "plt.title('AUTOMOTIVE Family Sales')\n",
        "plt.show()\n",
        "\n",
        "# Decompose the time series into its components (trend, seasonality, and residuals) to analyze them separately.\n",
        "from statsmodels.tsa.seasonal import seasonal_decompose\n",
        "decomposition = seasonal_decompose(family_data['sales'], model='additive', period=30)\n",
        "trend = decomposition.trend\n",
        "seasonal = decomposition.seasonal\n",
        "residual = decomposition.resid\n",
        "\n",
        "#Plot the decomposed components.\n",
        "fig, (ax1, ax2, ax3, ax4) = plt.subplots(4, 1, figsize=(15, 10), sharex=True)\n",
        "ax1.plot(family_data['sales'], label='Original')\n",
        "ax1.legend(loc='best')\n",
        "ax2.plot(trend, label='Trend')\n",
        "ax2.legend(loc='best')\n",
        "ax3.plot(seasonal, label='Seasonality')\n",
        "ax3.legend(loc='best')\n",
        "ax4.plot(residual, label='Residuals')\n",
        "ax4.legend(loc='best')\n",
        "plt.tight_layout()\n",
        "plt.show()\n"
      ],
      "metadata": {
        "colab": {
          "base_uri": "https://localhost:8080/",
          "height": 1000
        },
        "id": "fd5VIrS465ue",
        "outputId": "3a1f2a82-46a9-4c71-8560-dab1dd29d30a"
      },
      "execution_count": 21,
      "outputs": [
        {
          "output_type": "display_data",
          "data": {
            "text/plain": [
              "<Figure size 1080x432 with 1 Axes>"
            ],
            "image/png": "[encoded data removed]"
          },
          "metadata": {
            "needs_background": "light"
          }
        },
        {
          "output_type": "display_data",
          "data": {
            "text/plain": [
              "<Figure size 1080x720 with 4 Axes>"
            ],
            "image/png": "[encoded data removed]"
          },
          "metadata": {
            "needs_background": "light"
          }
        }
      ]
    },
    {
      "cell_type": "code",
      "source": [
        "family_data = family_data.reset_index()\n",
        "family_data['year'] = family_data['date'].dt.year\n",
        "family_data['month'] = family_data['date'].dt.month\n",
        "family_data['day'] = family_data['date'].dt.day"
      ],
      "metadata": {
        "id": "NCNTVHI6V2sZ"
      },
      "execution_count": 22,
      "outputs": []
    },
    {
      "cell_type": "code",
      "source": [
        "# Save the original display options\n",
        "#original_max_rows = pd.options.display.max_rows\n",
        "\n",
        "# Set the display options to show all rows\n",
        "#pd.options.display.max_rows = None\n",
        "\n",
        "#pd.options.display.max_rows = original_max_rows\n",
        "\n",
        "# Create a boolean mask for the date range (December 2013 - January 2014)\n",
        "\n",
        "mask = (family_data['date'] >= '2013-12-01') & (family_data['date'] <= '2014-01-31')\n",
        "\n",
        "# Filter the DataFrame using the mask\n",
        "filtered_family_data = family_data[mask]\n",
        "\n",
        "# Display the filtered data\n",
        "print(filtered_family_data)\n"
      ],
      "metadata": {
        "colab": {
          "base_uri": "https://localhost:8080/"
        },
        "id": "3fVf9Ffjy6yg",
        "outputId": "164bfcd9-f01b-48ea-a2df-f81d4f0dc3cd"
      },
      "execution_count": 23,
      "outputs": [
        {
          "output_type": "stream",
          "name": "stdout",
          "text": [
            "          date      family  sales  year  month  day\n",
            "334 2013-12-01  AUTOMOTIVE  439.0  2013     12    1\n",
            "335 2013-12-02  AUTOMOTIVE  278.0  2013     12    2\n",
            "336 2013-12-03  AUTOMOTIVE  287.0  2013     12    3\n",
            "337 2013-12-04  AUTOMOTIVE  230.0  2013     12    4\n",
            "338 2013-12-05  AUTOMOTIVE  223.0  2013     12    5\n",
            "..         ...         ...    ...   ...    ...  ...\n",
            "390 2014-01-27  AUTOMOTIVE  256.0  2014      1   27\n",
            "391 2014-01-28  AUTOMOTIVE  187.0  2014      1   28\n",
            "392 2014-01-29  AUTOMOTIVE  215.0  2014      1   29\n",
            "393 2014-01-30  AUTOMOTIVE  253.0  2014      1   30\n",
            "394 2014-01-31  AUTOMOTIVE  282.0  2014      1   31\n",
            "\n",
            "[61 rows x 6 columns]\n"
          ]
        }
      ]
    },
    {
      "cell_type": "code",
      "source": [
        "mask = (train_stores_holidays_oil_transactions['date'] >= '2013-12-30') & (train_stores_holidays_oil_transactions['date'] <= '2014-01-31')\n",
        "a = train_stores_holidays_oil_transactions\n",
        "a[ (a.date=='2014-01-02')].head()\n",
        "#train_stores_holidays_oil_transactions[mask]"
      ],
      "metadata": {
        "colab": {
          "base_uri": "https://localhost:8080/",
          "height": 357
        },
        "id": "cuUen6QMzzKJ",
        "outputId": "815c1cce-cf8b-4032-f53a-c6a2efeb5c12"
      },
      "execution_count": 24,
      "outputs": [
        {
          "output_type": "execute_result",
          "data": {
            "text/plain": [
              "            id       date  store_nbr      family   sales  onpromotion  \\\n",
              "659340  650430 2014-01-02          1  AUTOMOTIVE     3.0            0   \n",
              "659341  650431 2014-01-02          1   BABY CARE     0.0            0   \n",
              "659342  650432 2014-01-02          1      BEAUTY     6.0            0   \n",
              "659343  650433 2014-01-02          1   BEVERAGES  2524.0            0   \n",
              "659344  650434 2014-01-02          1       BOOKS     0.0            0   \n",
              "\n",
              "        log_sales   city      state type_x  cluster  dcoilwtico  transactions  \\\n",
              "659340   1.386294  Quito  Pichincha      D       13       95.14        1875.0   \n",
              "659341   0.000000  Quito  Pichincha      D       13       95.14        1875.0   \n",
              "659342   1.945910  Quito  Pichincha      D       13       95.14        1875.0   \n",
              "659343   7.833996  Quito  Pichincha      D       13       95.14        1875.0   \n",
              "659344   0.000000  Quito  Pichincha      D       13       95.14        1875.0   \n",
              "\n",
              "        is_holiday_or_event  \n",
              "659340                    0  \n",
              "659341                    0  \n",
              "659342                    0  \n",
              "659343                    0  \n",
              "659344                    0  "
            ],
            "text/html": [
              "\n",
              "  <div id=\"df-b4c4d0ae-de30-4491-8e5c-e5eec192db60\">\n",
              "    <div class=\"colab-df-container\">\n",
              "      <div>\n",
              "<style scoped>\n",
              "    .dataframe tbody tr th:only-of-type {\n",
              "        vertical-align: middle;\n",
              "    }\n",
              "\n",
              "    .dataframe tbody tr th {\n",
              "        vertical-align: top;\n",
              "    }\n",
              "\n",
              "    .dataframe thead th {\n",
              "        text-align: right;\n",
              "    }\n",
              "</style>\n",
              "<table border=\"1\" class=\"dataframe\">\n",
              "  <thead>\n",
              "    <tr style=\"text-align: right;\">\n",
              "      <th></th>\n",
              "      <th>id</th>\n",
              "      <th>date</th>\n",
              "      <th>store_nbr</th>\n",
              "      <th>family</th>\n",
              "      <th>sales</th>\n",
              "      <th>onpromotion</th>\n",
              "      <th>log_sales</th>\n",
              "      <th>city</th>\n",
              "      <th>state</th>\n",
              "      <th>type_x</th>\n",
              "      <th>cluster</th>\n",
              "      <th>dcoilwtico</th>\n",
              "      <th>transactions</th>\n",
              "      <th>is_holiday_or_event</th>\n",
              "    </tr>\n",
              "  </thead>\n",
              "  <tbody>\n",
              "    <tr>\n",
              "      <th>659340</th>\n",
              "      <td>650430</td>\n",
              "      <td>2014-01-02</td>\n",
              "      <td>1</td>\n",
              "      <td>AUTOMOTIVE</td>\n",
              "      <td>3.0</td>\n",
              "      <td>0</td>\n",
              "      <td>1.386294</td>\n",
              "      <td>Quito</td>\n",
              "      <td>Pichincha</td>\n",
              "      <td>D</td>\n",
              "      <td>13</td>\n",
              "      <td>95.14</td>\n",
              "      <td>1875.0</td>\n",
              "      <td>0</td>\n",
              "    </tr>\n",
              "    <tr>\n",
              "      <th>659341</th>\n",
              "      <td>650431</td>\n",
              "      <td>2014-01-02</td>\n",
              "      <td>1</td>\n",
              "      <td>BABY CARE</td>\n",
              "      <td>0.0</td>\n",
              "      <td>0</td>\n",
              "      <td>0.000000</td>\n",
              "      <td>Quito</td>\n",
              "      <td>Pichincha</td>\n",
              "      <td>D</td>\n",
              "      <td>13</td>\n",
              "      <td>95.14</td>\n",
              "      <td>1875.0</td>\n",
              "      <td>0</td>\n",
              "    </tr>\n",
              "    <tr>\n",
              "      <th>659342</th>\n",
              "      <td>650432</td>\n",
              "      <td>2014-01-02</td>\n",
              "      <td>1</td>\n",
              "      <td>BEAUTY</td>\n",
              "      <td>6.0</td>\n",
              "      <td>0</td>\n",
              "      <td>1.945910</td>\n",
              "      <td>Quito</td>\n",
              "      <td>Pichincha</td>\n",
              "      <td>D</td>\n",
              "      <td>13</td>\n",
              "      <td>95.14</td>\n",
              "      <td>1875.0</td>\n",
              "      <td>0</td>\n",
              "    </tr>\n",
              "    <tr>\n",
              "      <th>659343</th>\n",
              "      <td>650433</td>\n",
              "      <td>2014-01-02</td>\n",
              "      <td>1</td>\n",
              "      <td>BEVERAGES</td>\n",
              "      <td>2524.0</td>\n",
              "      <td>0</td>\n",
              "      <td>7.833996</td>\n",
              "      <td>Quito</td>\n",
              "      <td>Pichincha</td>\n",
              "      <td>D</td>\n",
              "      <td>13</td>\n",
              "      <td>95.14</td>\n",
              "      <td>1875.0</td>\n",
              "      <td>0</td>\n",
              "    </tr>\n",
              "    <tr>\n",
              "      <th>659344</th>\n",
              "      <td>650434</td>\n",
              "      <td>2014-01-02</td>\n",
              "      <td>1</td>\n",
              "      <td>BOOKS</td>\n",
              "      <td>0.0</td>\n",
              "      <td>0</td>\n",
              "      <td>0.000000</td>\n",
              "      <td>Quito</td>\n",
              "      <td>Pichincha</td>\n",
              "      <td>D</td>\n",
              "      <td>13</td>\n",
              "      <td>95.14</td>\n",
              "      <td>1875.0</td>\n",
              "      <td>0</td>\n",
              "    </tr>\n",
              "  </tbody>\n",
              "</table>\n",
              "</div>\n",
              "      <button class=\"colab-df-convert\" onclick=\"convertToInteractive('df-b4c4d0ae-de30-4491-8e5c-e5eec192db60')\"\n",
              "              title=\"Convert this dataframe to an interactive table.\"\n",
              "              style=\"display:none;\">\n",
              "        \n",
              "  <svg xmlns=\"http://www.w3.org/2000/svg\" height=\"24px\"viewBox=\"0 0 24 24\"\n",
              "       width=\"24px\">\n",
              "    <path d=\"M0 0h24v24H0V0z\" fill=\"none\"/>\n",
              "    <path d=\"M18.56 5.44l.94 2.06.94-2.06 2.06-.94-2.06-.94-.94-2.06-.94 2.06-2.06.94zm-11 1L8.5 8.5l.94-2.06 2.06-.94-2.06-.94L8.5 2.5l-.94 2.06-2.06.94zm10 10l.94 2.06.94-2.06 2.06-.94-2.06-.94-.94-2.06-.94 2.06-2.06.94z\"/><path d=\"M17.41 7.96l-1.37-1.37c-.4-.4-.92-.59-1.43-.59-.52 0-1.04.2-1.43.59L10.3 9.45l-7.72 7.72c-.78.78-.78 2.05 0 2.83L4 21.41c.39.39.9.59 1.41.59.51 0 1.02-.2 1.41-.59l7.78-7.78 2.81-2.81c.8-.78.8-2.07 0-2.86zM5.41 20L4 18.59l7.72-7.72 1.47 1.35L5.41 20z\"/>\n",
              "  </svg>\n",
              "      </button>\n",
              "      \n",
              "  <style>\n",
              "    .colab-df-container {\n",
              "      display:flex;\n",
              "      flex-wrap:wrap;\n",
              "      gap: 12px;\n",
              "    }\n",
              "\n",
              "    .colab-df-convert {\n",
              "      background-color: #E8F0FE;\n",
              "      border: none;\n",
              "      border-radius: 50%;\n",
              "      cursor: pointer;\n",
              "      display: none;\n",
              "      fill: #1967D2;\n",
              "      height: 32px;\n",
              "      padding: 0 0 0 0;\n",
              "      width: 32px;\n",
              "    }\n",
              "\n",
              "    .colab-df-convert:hover {\n",
              "      background-color: #E2EBFA;\n",
              "      box-shadow: 0px 1px 2px rgba(60, 64, 67, 0.3), 0px 1px 3px 1px rgba(60, 64, 67, 0.15);\n",
              "      fill: #174EA6;\n",
              "    }\n",
              "\n",
              "    [theme=dark] .colab-df-convert {\n",
              "      background-color: #3B4455;\n",
              "      fill: #D2E3FC;\n",
              "    }\n",
              "\n",
              "    [theme=dark] .colab-df-convert:hover {\n",
              "      background-color: #434B5C;\n",
              "      box-shadow: 0px 1px 3px 1px rgba(0, 0, 0, 0.15);\n",
              "      filter: drop-shadow(0px 1px 2px rgba(0, 0, 0, 0.3));\n",
              "      fill: #FFFFFF;\n",
              "    }\n",
              "  </style>\n",
              "\n",
              "      <script>\n",
              "        const buttonEl =\n",
              "          document.querySelector('#df-b4c4d0ae-de30-4491-8e5c-e5eec192db60 button.colab-df-convert');\n",
              "        buttonEl.style.display =\n",
              "          google.colab.kernel.accessAllowed ? 'block' : 'none';\n",
              "\n",
              "        async function convertToInteractive(key) {\n",
              "          const element = document.querySelector('#df-b4c4d0ae-de30-4491-8e5c-e5eec192db60');\n",
              "          const dataTable =\n",
              "            await google.colab.kernel.invokeFunction('convertToInteractive',\n",
              "                                                     [key], {});\n",
              "          if (!dataTable) return;\n",
              "\n",
              "          const docLinkHtml = 'Like what you see? Visit the ' +\n",
              "            '<a target=\"_blank\" href=https://colab.research.google.com/notebooks/data_table.ipynb>data table notebook</a>'\n",
              "            + ' to learn more about interactive tables.';\n",
              "          element.innerHTML = '';\n",
              "          dataTable['output_type'] = 'display_data';\n",
              "          await google.colab.output.renderOutput(dataTable, element);\n",
              "          const docLink = document.createElement('div');\n",
              "          docLink.innerHTML = docLinkHtml;\n",
              "          element.appendChild(docLink);\n",
              "        }\n",
              "      </script>\n",
              "    </div>\n",
              "  </div>\n",
              "  "
            ]
          },
          "metadata": {},
          "execution_count": 24
        }
      ]
    },
    {
      "cell_type": "markdown",
      "source": [
        "Result: The dips are caused due to holidays"
      ],
      "metadata": {
        "id": "zQXuZdPG1p_Q"
      }
    },
    {
      "cell_type": "markdown",
      "source": [
        "# Modelling"
      ],
      "metadata": {
        "id": "H4-mZWJ_HQjm"
      }
    },
    {
      "cell_type": "markdown",
      "source": [
        "## Preprocessing and Feature Engineering"
      ],
      "metadata": {
        "id": "Ft6wiSTF2bPh"
      }
    },
    {
      "cell_type": "code",
      "source": [
        "# Create lag features\n",
        "for i in range(1, 8):\n",
        "    family_data[f'lag_{i}'] = family_data['sales'].shift(i)\n"
      ],
      "metadata": {
        "id": "KVHpQKp21xUA"
      },
      "execution_count": 25,
      "outputs": []
    },
    {
      "cell_type": "code",
      "source": [
        "# Create rolling window statistics\n",
        "window_size = 7\n",
        "family_data['rolling_mean'] = family_data['sales'].rolling(window=window_size).mean()\n",
        "family_data['rolling_median'] = family_data['sales'].rolling(window=window_size).median()\n",
        "family_data['rolling_std'] = family_data['sales'].rolling(window=window_size).std()\n"
      ],
      "metadata": {
        "id": "I5yXPIIt2lbQ"
      },
      "execution_count": 26,
      "outputs": []
    },
    {
      "cell_type": "code",
      "source": [
        "# Create day of the week and week of the year features\n",
        "family_data['day_of_week'] = family_data['date'].dt.dayofweek\n",
        "family_data['week_of_year'] = family_data['date'].dt.isocalendar().week\n"
      ],
      "metadata": {
        "id": "8LSfGdE42ngQ"
      },
      "execution_count": 27,
      "outputs": []
    },
    {
      "cell_type": "code",
      "source": [
        "# One-hot encoding for the 'family' column\n",
        "family_data = pd.get_dummies(family_data, columns=['family'], drop_first=True)\n"
      ],
      "metadata": {
        "id": "4UUnjCeY2qHQ"
      },
      "execution_count": 28,
      "outputs": []
    },
    {
      "cell_type": "code",
      "source": [
        "# Drop rows with missing values\n",
        "family_data.dropna(inplace=True)\n",
        "family_data.head()"
      ],
      "metadata": {
        "colab": {
          "base_uri": "https://localhost:8080/",
          "height": 357
        },
        "id": "91xcjQA_2sbH",
        "outputId": "2069c09a-c56d-40c6-821d-09d14e2dbc1a"
      },
      "execution_count": 29,
      "outputs": [
        {
          "output_type": "execute_result",
          "data": {
            "text/plain": [
              "         date  sales  year  month  day  lag_1  lag_2  lag_3  lag_4  lag_5  \\\n",
              "7  2013-01-08  229.0  2013      1    8  189.0  360.0  342.0  169.0  161.0   \n",
              "8  2013-01-09  164.0  2013      1    9  229.0  189.0  360.0  342.0  169.0   \n",
              "9  2013-01-10  164.0  2013      1   10  164.0  229.0  189.0  360.0  342.0   \n",
              "10 2013-01-11  162.0  2013      1   11  164.0  164.0  229.0  189.0  360.0   \n",
              "11 2013-01-12  280.0  2013      1   12  162.0  164.0  164.0  229.0  189.0   \n",
              "\n",
              "    lag_6  lag_7  rolling_mean  rolling_median  rolling_std  day_of_week  \\\n",
              "7   255.0    0.0    243.571429           229.0    80.564378            1   \n",
              "8   161.0  255.0    230.571429           189.0    85.597619            2   \n",
              "9   169.0  161.0    231.000000           189.0    85.197809            3   \n",
              "10  342.0  169.0    230.000000           189.0    86.083293            4   \n",
              "11  360.0  342.0    221.142857           189.0    75.131947            5   \n",
              "\n",
              "    week_of_year  \n",
              "7              2  \n",
              "8              2  \n",
              "9              2  \n",
              "10             2  \n",
              "11             2  "
            ],
            "text/html": [
              "\n",
              "  <div id=\"df-eb1ef353-e358-4692-a33c-c245506ef597\">\n",
              "    <div class=\"colab-df-container\">\n",
              "      <div>\n",
              "<style scoped>\n",
              "    .dataframe tbody tr th:only-of-type {\n",
              "        vertical-align: middle;\n",
              "    }\n",
              "\n",
              "    .dataframe tbody tr th {\n",
              "        vertical-align: top;\n",
              "    }\n",
              "\n",
              "    .dataframe thead th {\n",
              "        text-align: right;\n",
              "    }\n",
              "</style>\n",
              "<table border=\"1\" class=\"dataframe\">\n",
              "  <thead>\n",
              "    <tr style=\"text-align: right;\">\n",
              "      <th></th>\n",
              "      <th>date</th>\n",
              "      <th>sales</th>\n",
              "      <th>year</th>\n",
              "      <th>month</th>\n",
              "      <th>day</th>\n",
              "      <th>lag_1</th>\n",
              "      <th>lag_2</th>\n",
              "      <th>lag_3</th>\n",
              "      <th>lag_4</th>\n",
              "      <th>lag_5</th>\n",
              "      <th>lag_6</th>\n",
              "      <th>lag_7</th>\n",
              "      <th>rolling_mean</th>\n",
              "      <th>rolling_median</th>\n",
              "      <th>rolling_std</th>\n",
              "      <th>day_of_week</th>\n",
              "      <th>week_of_year</th>\n",
              "    </tr>\n",
              "  </thead>\n",
              "  <tbody>\n",
              "    <tr>\n",
              "      <th>7</th>\n",
              "      <td>2013-01-08</td>\n",
              "      <td>229.0</td>\n",
              "      <td>2013</td>\n",
              "      <td>1</td>\n",
              "      <td>8</td>\n",
              "      <td>189.0</td>\n",
              "      <td>360.0</td>\n",
              "      <td>342.0</td>\n",
              "      <td>169.0</td>\n",
              "      <td>161.0</td>\n",
              "      <td>255.0</td>\n",
              "      <td>0.0</td>\n",
              "      <td>243.571429</td>\n",
              "      <td>229.0</td>\n",
              "      <td>80.564378</td>\n",
              "      <td>1</td>\n",
              "      <td>2</td>\n",
              "    </tr>\n",
              "    <tr>\n",
              "      <th>8</th>\n",
              "      <td>2013-01-09</td>\n",
              "      <td>164.0</td>\n",
              "      <td>2013</td>\n",
              "      <td>1</td>\n",
              "      <td>9</td>\n",
              "      <td>229.0</td>\n",
              "      <td>189.0</td>\n",
              "      <td>360.0</td>\n",
              "      <td>342.0</td>\n",
              "      <td>169.0</td>\n",
              "      <td>161.0</td>\n",
              "      <td>255.0</td>\n",
              "      <td>230.571429</td>\n",
              "      <td>189.0</td>\n",
              "      <td>85.597619</td>\n",
              "      <td>2</td>\n",
              "      <td>2</td>\n",
              "    </tr>\n",
              "    <tr>\n",
              "      <th>9</th>\n",
              "      <td>2013-01-10</td>\n",
              "      <td>164.0</td>\n",
              "      <td>2013</td>\n",
              "      <td>1</td>\n",
              "      <td>10</td>\n",
              "      <td>164.0</td>\n",
              "      <td>229.0</td>\n",
              "      <td>189.0</td>\n",
              "      <td>360.0</td>\n",
              "      <td>342.0</td>\n",
              "      <td>169.0</td>\n",
              "      <td>161.0</td>\n",
              "      <td>231.000000</td>\n",
              "      <td>189.0</td>\n",
              "      <td>85.197809</td>\n",
              "      <td>3</td>\n",
              "      <td>2</td>\n",
              "    </tr>\n",
              "    <tr>\n",
              "      <th>10</th>\n",
              "      <td>2013-01-11</td>\n",
              "      <td>162.0</td>\n",
              "      <td>2013</td>\n",
              "      <td>1</td>\n",
              "      <td>11</td>\n",
              "      <td>164.0</td>\n",
              "      <td>164.0</td>\n",
              "      <td>229.0</td>\n",
              "      <td>189.0</td>\n",
              "      <td>360.0</td>\n",
              "      <td>342.0</td>\n",
              "      <td>169.0</td>\n",
              "      <td>230.000000</td>\n",
              "      <td>189.0</td>\n",
              "      <td>86.083293</td>\n",
              "      <td>4</td>\n",
              "      <td>2</td>\n",
              "    </tr>\n",
              "    <tr>\n",
              "      <th>11</th>\n",
              "      <td>2013-01-12</td>\n",
              "      <td>280.0</td>\n",
              "      <td>2013</td>\n",
              "      <td>1</td>\n",
              "      <td>12</td>\n",
              "      <td>162.0</td>\n",
              "      <td>164.0</td>\n",
              "      <td>164.0</td>\n",
              "      <td>229.0</td>\n",
              "      <td>189.0</td>\n",
              "      <td>360.0</td>\n",
              "      <td>342.0</td>\n",
              "      <td>221.142857</td>\n",
              "      <td>189.0</td>\n",
              "      <td>75.131947</td>\n",
              "      <td>5</td>\n",
              "      <td>2</td>\n",
              "    </tr>\n",
              "  </tbody>\n",
              "</table>\n",
              "</div>\n",
              "      <button class=\"colab-df-convert\" onclick=\"convertToInteractive('df-eb1ef353-e358-4692-a33c-c245506ef597')\"\n",
              "              title=\"Convert this dataframe to an interactive table.\"\n",
              "              style=\"display:none;\">\n",
              "        \n",
              "  <svg xmlns=\"http://www.w3.org/2000/svg\" height=\"24px\"viewBox=\"0 0 24 24\"\n",
              "       width=\"24px\">\n",
              "    <path d=\"M0 0h24v24H0V0z\" fill=\"none\"/>\n",
              "    <path d=\"M18.56 5.44l.94 2.06.94-2.06 2.06-.94-2.06-.94-.94-2.06-.94 2.06-2.06.94zm-11 1L8.5 8.5l.94-2.06 2.06-.94-2.06-.94L8.5 2.5l-.94 2.06-2.06.94zm10 10l.94 2.06.94-2.06 2.06-.94-2.06-.94-.94-2.06-.94 2.06-2.06.94z\"/><path d=\"M17.41 7.96l-1.37-1.37c-.4-.4-.92-.59-1.43-.59-.52 0-1.04.2-1.43.59L10.3 9.45l-7.72 7.72c-.78.78-.78 2.05 0 2.83L4 21.41c.39.39.9.59 1.41.59.51 0 1.02-.2 1.41-.59l7.78-7.78 2.81-2.81c.8-.78.8-2.07 0-2.86zM5.41 20L4 18.59l7.72-7.72 1.47 1.35L5.41 20z\"/>\n",
              "  </svg>\n",
              "      </button>\n",
              "      \n",
              "  <style>\n",
              "    .colab-df-container {\n",
              "      display:flex;\n",
              "      flex-wrap:wrap;\n",
              "      gap: 12px;\n",
              "    }\n",
              "\n",
              "    .colab-df-convert {\n",
              "      background-color: #E8F0FE;\n",
              "      border: none;\n",
              "      border-radius: 50%;\n",
              "      cursor: pointer;\n",
              "      display: none;\n",
              "      fill: #1967D2;\n",
              "      height: 32px;\n",
              "      padding: 0 0 0 0;\n",
              "      width: 32px;\n",
              "    }\n",
              "\n",
              "    .colab-df-convert:hover {\n",
              "      background-color: #E2EBFA;\n",
              "      box-shadow: 0px 1px 2px rgba(60, 64, 67, 0.3), 0px 1px 3px 1px rgba(60, 64, 67, 0.15);\n",
              "      fill: #174EA6;\n",
              "    }\n",
              "\n",
              "    [theme=dark] .colab-df-convert {\n",
              "      background-color: #3B4455;\n",
              "      fill: #D2E3FC;\n",
              "    }\n",
              "\n",
              "    [theme=dark] .colab-df-convert:hover {\n",
              "      background-color: #434B5C;\n",
              "      box-shadow: 0px 1px 3px 1px rgba(0, 0, 0, 0.15);\n",
              "      filter: drop-shadow(0px 1px 2px rgba(0, 0, 0, 0.3));\n",
              "      fill: #FFFFFF;\n",
              "    }\n",
              "  </style>\n",
              "\n",
              "      <script>\n",
              "        const buttonEl =\n",
              "          document.querySelector('#df-eb1ef353-e358-4692-a33c-c245506ef597 button.colab-df-convert');\n",
              "        buttonEl.style.display =\n",
              "          google.colab.kernel.accessAllowed ? 'block' : 'none';\n",
              "\n",
              "        async function convertToInteractive(key) {\n",
              "          const element = document.querySelector('#df-eb1ef353-e358-4692-a33c-c245506ef597');\n",
              "          const dataTable =\n",
              "            await google.colab.kernel.invokeFunction('convertToInteractive',\n",
              "                                                     [key], {});\n",
              "          if (!dataTable) return;\n",
              "\n",
              "          const docLinkHtml = 'Like what you see? Visit the ' +\n",
              "            '<a target=\"_blank\" href=https://colab.research.google.com/notebooks/data_table.ipynb>data table notebook</a>'\n",
              "            + ' to learn more about interactive tables.';\n",
              "          element.innerHTML = '';\n",
              "          dataTable['output_type'] = 'display_data';\n",
              "          await google.colab.output.renderOutput(dataTable, element);\n",
              "          const docLink = document.createElement('div');\n",
              "          docLink.innerHTML = docLinkHtml;\n",
              "          element.appendChild(docLink);\n",
              "        }\n",
              "      </script>\n",
              "    </div>\n",
              "  </div>\n",
              "  "
            ]
          },
          "metadata": {},
          "execution_count": 29
        }
      ]
    },
    {
      "cell_type": "markdown",
      "source": [
        "## Train/Test Split"
      ],
      "metadata": {
        "id": "F_koX15U3AZS"
      }
    },
    {
      "cell_type": "code",
      "source": [
        "split_index = int(0.8 * len(family_data))\n",
        "\n",
        "from sklearn.model_selection import train_test_split\n",
        "\n",
        "# Separate features and target variable\n",
        "X = family_data.drop('sales', axis=1)\n",
        "y = family_data['sales']\n",
        "\n",
        "# Perform time-based train-test split\n",
        "X_train, X_test = X[:split_index], X[split_index:]\n",
        "y_train, y_test = y[:split_index], y[split_index:]\n"
      ],
      "metadata": {
        "id": "hs8f7_nP3Cqi"
      },
      "execution_count": 30,
      "outputs": []
    },
    {
      "cell_type": "code",
      "source": [
        "print(y_train.shape)\n",
        "\n",
        "y_train.index = pd.to_datetime(y_train.index)\n",
        "\n",
        "y_test.index = pd.to_datetime(y_test.index)\n",
        "\n",
        "\n",
        "print(\"X_train shape:\", X_train.shape)\n",
        "print(\"X_test shape:\", X_test.shape)\n",
        "print(\"y_train shape:\", y_train.shape)\n",
        "print(\"y_test shape:\", y_test.shape)"
      ],
      "metadata": {
        "colab": {
          "base_uri": "https://localhost:8080/"
        },
        "id": "D5kdeBfOPSes",
        "outputId": "2b8594f8-59a4-477c-b0d3-9cbe6d444542"
      },
      "execution_count": 31,
      "outputs": [
        {
          "output_type": "stream",
          "name": "stdout",
          "text": [
            "(1341,)\n",
            "X_train shape: (1341, 16)\n",
            "X_test shape: (336, 16)\n",
            "y_train shape: (1341,)\n",
            "y_test shape: (336,)\n"
          ]
        }
      ]
    },
    {
      "cell_type": "markdown",
      "source": [
        "## Model Selection"
      ],
      "metadata": {
        "id": "lPtozkEG3UDL"
      }
    },
    {
      "cell_type": "markdown",
      "source": [
        "### ARIMA"
      ],
      "metadata": {
        "id": "5OgRZuB24jTY"
      }
    },
    {
      "cell_type": "code",
      "source": [
        "from statsmodels.tsa.arima.model import ARIMA\n",
        "\n",
        "import warnings\n",
        "from statsmodels.tools.sm_exceptions import ValueWarning, ConvergenceWarning\n",
        "\n",
        "warnings.filterwarnings(\"ignore\", category=ValueWarning)\n",
        "warnings.filterwarnings(\"ignore\", category=ConvergenceWarning)\n",
        "warnings.filterwarnings(\"ignore\", message=\"Non-stationary starting autoregressive parameters\")\n",
        "warnings.filterwarnings(\"ignore\", message=\"Non-invertible starting MA parameters\")\n",
        "\n",
        "\n",
        "y_train.index = pd.to_datetime(y_train.index)\n",
        "\n",
        "y_test.index = pd.to_datetime(y_test.index)\n",
        "\n",
        "\n",
        "# Define the ARIMA model\n",
        "model = ARIMA(y_train, order=(1, 1, 1))\n",
        "\n",
        "# Fit the model\n",
        "model_fit = model.fit()\n",
        "\n",
        "# Make predictions for the test set\n",
        "predictions = model_fit.forecast(steps=len(X_test))\n",
        "\n",
        "# Evaluate the model\n",
        "from sklearn.metrics import mean_absolute_error, mean_squared_error\n",
        "import numpy as np\n",
        "\n",
        "mae = mean_absolute_error(y_test, predictions)\n",
        "mse = mean_squared_error(y_test, predictions)\n",
        "rmse = np.sqrt(mse)\n",
        "\n",
        "print(f\"MAE: {mae}\")\n",
        "print(f\"MSE: {mse}\")\n",
        "print(f\"RMSE: {rmse}\")\n"
      ],
      "metadata": {
        "colab": {
          "base_uri": "https://localhost:8080/"
        },
        "id": "xzuvduMT3V3f",
        "outputId": "14040678-e6d8-41ae-dddf-f731fecbc0a6"
      },
      "execution_count": 32,
      "outputs": [
        {
          "output_type": "stream",
          "name": "stdout",
          "text": [
            "MAE: 94.58461039512683\n",
            "MSE: 20614.288654843687\n",
            "RMSE: 143.57676920325127\n"
          ]
        }
      ]
    },
    {
      "cell_type": "markdown",
      "source": [
        "### SARIMAX"
      ],
      "metadata": {
        "id": "WkKfLaGo41Va"
      }
    },
    {
      "cell_type": "code",
      "source": [
        "from statsmodels.tsa.statespace.sarimax import SARIMAX\n",
        "\n",
        "# Define the SARIMAX model\n",
        "model = SARIMAX(y_train, order=(1, 1, 1), seasonal_order=(1, 1, 1, 12))\n",
        "\n",
        "# Fit the model\n",
        "model_fit = model.fit()\n",
        "\n",
        "# Make predictions for the test set\n",
        "predictions = model_fit.forecast(steps=len(y_test))\n",
        "\n",
        "# Evaluate the model\n",
        "mae = mean_absolute_error(y_test, predictions)\n",
        "mse = mean_squared_error(y_test, predictions)\n",
        "rmse = np.sqrt(mse)\n",
        "\n",
        "print(f\"MAE: {mae}\")\n",
        "print(f\"MSE: {mse}\")\n",
        "print(f\"RMSE: {rmse}\")\n"
      ],
      "metadata": {
        "colab": {
          "base_uri": "https://localhost:8080/"
        },
        "id": "ZFVyDh53432X",
        "outputId": "95367978-869e-479a-812c-88f1c27ead27"
      },
      "execution_count": 33,
      "outputs": [
        {
          "output_type": "stream",
          "name": "stdout",
          "text": [
            "MAE: 111.57868243729797\n",
            "MSE: 21006.410045930854\n",
            "RMSE: 144.93588253407384\n"
          ]
        }
      ]
    },
    {
      "cell_type": "markdown",
      "source": [
        "### LSTM"
      ],
      "metadata": {
        "id": "XhWNKGfz47wx"
      }
    },
    {
      "cell_type": "code",
      "source": [
        "from keras.models import Sequential\n",
        "from keras.layers import Dense, LSTM\n",
        "from sklearn.preprocessing import MinMaxScaler\n",
        "import numpy as np\n",
        "\n",
        "# Scale the data\n",
        "scaler = MinMaxScaler()\n",
        "y_train_scaled = scaler.fit_transform(np.array(y_train).reshape(-1, 1))\n",
        "y_test_scaled = scaler.transform(np.array(y_test).reshape(-1, 1))\n",
        "\n",
        "# Prepare the data for LSTM\n",
        "def create_dataset(dataset, look_back=1):\n",
        "    X, Y = [], []\n",
        "    for i in range(len(dataset)-look_back-1):\n",
        "        X.append(dataset[i:(i+look_back), 0])\n",
        "        Y.append(dataset[i + look_back, 0])\n",
        "    return np.array(X), np.array(Y)\n",
        "\n",
        "look_back = 1\n",
        "X_train, y_train_lstm = create_dataset(y_train_scaled, look_back)\n",
        "X_test, y_test_lstm = create_dataset(y_test_scaled, look_back)\n",
        "\n",
        "X_train = np.reshape(X_train, (X_train.shape[0], 1, X_train.shape[1]))\n",
        "X_test = np.reshape(X_test, (X_test.shape[0], 1, X_test.shape[1]))\n",
        "\n",
        "# Define the LSTM model\n",
        "model = Sequential()\n",
        "model.add(LSTM(4, input_shape=(1, look_back)))\n",
        "model.add(Dense(1))\n",
        "model.compile(loss='mean_squared_error', optimizer='adam')\n",
        "\n",
        "# Fit the model\n",
        "model.fit(X_train, y_train_lstm, epochs=100, batch_size=1, verbose=2)\n",
        "\n",
        "# Make predictions for the test set\n",
        "predictions = model.predict(X_test)\n",
        "\n",
        "# Invert predictions\n",
        "predictions = scaler.inverse_transform(predictions)\n",
        "\n",
        "# Evaluate the model\n",
        "# Evaluate the model\n",
        "mae = mean_absolute_error(y_test_lstm, predictions.flatten())\n",
        "mse = mean_squared_error(y_test_lstm, predictions.flatten())\n",
        "rmse = np.sqrt(mse)\n",
        "\n",
        "print(f\"MAE: {mae}\")\n",
        "print(f\"MSE: {mse}\")\n",
        "print(f\"RMSE: {rmse}\")\n",
        "\n"
      ],
      "metadata": {
        "colab": {
          "base_uri": "https://localhost:8080/"
        },
        "id": "luIfTZ1d4-kw",
        "outputId": "a99b3ffa-f461-4da9-cd4f-f50c367e3dc0"
      },
      "execution_count": 34,
      "outputs": [
        {
          "output_type": "stream",
          "name": "stdout",
          "text": [
            "Epoch 1/100\n",
            "1339/1339 - 4s - loss: 0.0122 - 4s/epoch - 3ms/step\n",
            "Epoch 2/100\n",
            "1339/1339 - 2s - loss: 0.0073 - 2s/epoch - 2ms/step\n",
            "Epoch 3/100\n",
            "1339/1339 - 2s - loss: 0.0069 - 2s/epoch - 2ms/step\n",
            "Epoch 4/100\n",
            "1339/1339 - 3s - loss: 0.0067 - 3s/epoch - 2ms/step\n",
            "Epoch 5/100\n",
            "1339/1339 - 2s - loss: 0.0065 - 2s/epoch - 2ms/step\n",
            "Epoch 6/100\n",
            "1339/1339 - 2s - loss: 0.0065 - 2s/epoch - 2ms/step\n",
            "Epoch 7/100\n",
            "1339/1339 - 2s - loss: 0.0065 - 2s/epoch - 2ms/step\n",
            "Epoch 8/100\n",
            "1339/1339 - 2s - loss: 0.0064 - 2s/epoch - 2ms/step\n",
            "Epoch 9/100\n",
            "1339/1339 - 3s - loss: 0.0064 - 3s/epoch - 2ms/step\n",
            "Epoch 10/100\n",
            "1339/1339 - 3s - loss: 0.0064 - 3s/epoch - 2ms/step\n",
            "Epoch 11/100\n",
            "1339/1339 - 2s - loss: 0.0064 - 2s/epoch - 2ms/step\n",
            "Epoch 12/100\n",
            "1339/1339 - 2s - loss: 0.0064 - 2s/epoch - 2ms/step\n",
            "Epoch 13/100\n",
            "1339/1339 - 2s - loss: 0.0064 - 2s/epoch - 2ms/step\n",
            "Epoch 14/100\n",
            "1339/1339 - 3s - loss: 0.0064 - 3s/epoch - 2ms/step\n",
            "Epoch 15/100\n",
            "1339/1339 - 3s - loss: 0.0064 - 3s/epoch - 2ms/step\n",
            "Epoch 16/100\n",
            "1339/1339 - 2s - loss: 0.0064 - 2s/epoch - 2ms/step\n",
            "Epoch 17/100\n",
            "1339/1339 - 2s - loss: 0.0064 - 2s/epoch - 2ms/step\n",
            "Epoch 18/100\n",
            "1339/1339 - 2s - loss: 0.0064 - 2s/epoch - 2ms/step\n",
            "Epoch 19/100\n",
            "1339/1339 - 3s - loss: 0.0064 - 3s/epoch - 2ms/step\n",
            "Epoch 20/100\n",
            "1339/1339 - 3s - loss: 0.0063 - 3s/epoch - 2ms/step\n",
            "Epoch 21/100\n",
            "1339/1339 - 2s - loss: 0.0064 - 2s/epoch - 2ms/step\n",
            "Epoch 22/100\n",
            "1339/1339 - 2s - loss: 0.0064 - 2s/epoch - 2ms/step\n",
            "Epoch 23/100\n",
            "1339/1339 - 2s - loss: 0.0064 - 2s/epoch - 2ms/step\n",
            "Epoch 24/100\n",
            "1339/1339 - 2s - loss: 0.0063 - 2s/epoch - 2ms/step\n",
            "Epoch 25/100\n",
            "1339/1339 - 3s - loss: 0.0063 - 3s/epoch - 3ms/step\n",
            "Epoch 26/100\n",
            "1339/1339 - 2s - loss: 0.0063 - 2s/epoch - 2ms/step\n",
            "Epoch 27/100\n",
            "1339/1339 - 2s - loss: 0.0063 - 2s/epoch - 2ms/step\n",
            "Epoch 28/100\n",
            "1339/1339 - 2s - loss: 0.0063 - 2s/epoch - 2ms/step\n",
            "Epoch 29/100\n",
            "1339/1339 - 2s - loss: 0.0063 - 2s/epoch - 2ms/step\n",
            "Epoch 30/100\n",
            "1339/1339 - 4s - loss: 0.0063 - 4s/epoch - 3ms/step\n",
            "Epoch 31/100\n",
            "1339/1339 - 2s - loss: 0.0063 - 2s/epoch - 2ms/step\n",
            "Epoch 32/100\n",
            "1339/1339 - 2s - loss: 0.0063 - 2s/epoch - 2ms/step\n",
            "Epoch 33/100\n",
            "1339/1339 - 2s - loss: 0.0063 - 2s/epoch - 2ms/step\n",
            "Epoch 34/100\n",
            "1339/1339 - 2s - loss: 0.0063 - 2s/epoch - 2ms/step\n",
            "Epoch 35/100\n",
            "1339/1339 - 3s - loss: 0.0063 - 3s/epoch - 2ms/step\n",
            "Epoch 36/100\n",
            "1339/1339 - 3s - loss: 0.0063 - 3s/epoch - 2ms/step\n",
            "Epoch 37/100\n",
            "1339/1339 - 2s - loss: 0.0063 - 2s/epoch - 2ms/step\n",
            "Epoch 38/100\n",
            "1339/1339 - 2s - loss: 0.0063 - 2s/epoch - 2ms/step\n",
            "Epoch 39/100\n",
            "1339/1339 - 2s - loss: 0.0063 - 2s/epoch - 2ms/step\n",
            "Epoch 40/100\n",
            "1339/1339 - 3s - loss: 0.0063 - 3s/epoch - 2ms/step\n",
            "Epoch 41/100\n",
            "1339/1339 - 3s - loss: 0.0063 - 3s/epoch - 2ms/step\n",
            "Epoch 42/100\n",
            "1339/1339 - 2s - loss: 0.0063 - 2s/epoch - 2ms/step\n",
            "Epoch 43/100\n",
            "1339/1339 - 2s - loss: 0.0063 - 2s/epoch - 2ms/step\n",
            "Epoch 44/100\n",
            "1339/1339 - 2s - loss: 0.0062 - 2s/epoch - 2ms/step\n",
            "Epoch 45/100\n",
            "1339/1339 - 3s - loss: 0.0062 - 3s/epoch - 2ms/step\n",
            "Epoch 46/100\n",
            "1339/1339 - 3s - loss: 0.0063 - 3s/epoch - 2ms/step\n",
            "Epoch 47/100\n",
            "1339/1339 - 2s - loss: 0.0062 - 2s/epoch - 2ms/step\n",
            "Epoch 48/100\n",
            "1339/1339 - 2s - loss: 0.0063 - 2s/epoch - 2ms/step\n",
            "Epoch 49/100\n",
            "1339/1339 - 2s - loss: 0.0062 - 2s/epoch - 2ms/step\n",
            "Epoch 50/100\n",
            "1339/1339 - 3s - loss: 0.0063 - 3s/epoch - 2ms/step\n",
            "Epoch 51/100\n",
            "1339/1339 - 3s - loss: 0.0063 - 3s/epoch - 2ms/step\n",
            "Epoch 52/100\n",
            "1339/1339 - 2s - loss: 0.0062 - 2s/epoch - 2ms/step\n",
            "Epoch 53/100\n",
            "1339/1339 - 2s - loss: 0.0062 - 2s/epoch - 2ms/step\n",
            "Epoch 54/100\n",
            "1339/1339 - 2s - loss: 0.0062 - 2s/epoch - 2ms/step\n",
            "Epoch 55/100\n",
            "1339/1339 - 3s - loss: 0.0062 - 3s/epoch - 2ms/step\n",
            "Epoch 56/100\n",
            "1339/1339 - 3s - loss: 0.0062 - 3s/epoch - 2ms/step\n",
            "Epoch 57/100\n",
            "1339/1339 - 2s - loss: 0.0062 - 2s/epoch - 2ms/step\n",
            "Epoch 58/100\n",
            "1339/1339 - 2s - loss: 0.0062 - 2s/epoch - 2ms/step\n",
            "Epoch 59/100\n",
            "1339/1339 - 2s - loss: 0.0062 - 2s/epoch - 2ms/step\n",
            "Epoch 60/100\n",
            "1339/1339 - 2s - loss: 0.0063 - 2s/epoch - 2ms/step\n",
            "Epoch 61/100\n",
            "1339/1339 - 3s - loss: 0.0062 - 3s/epoch - 3ms/step\n",
            "Epoch 62/100\n",
            "1339/1339 - 2s - loss: 0.0063 - 2s/epoch - 2ms/step\n",
            "Epoch 63/100\n",
            "1339/1339 - 2s - loss: 0.0062 - 2s/epoch - 2ms/step\n",
            "Epoch 64/100\n",
            "1339/1339 - 2s - loss: 0.0062 - 2s/epoch - 2ms/step\n",
            "Epoch 65/100\n",
            "1339/1339 - 2s - loss: 0.0062 - 2s/epoch - 2ms/step\n",
            "Epoch 66/100\n",
            "1339/1339 - 3s - loss: 0.0063 - 3s/epoch - 3ms/step\n",
            "Epoch 67/100\n",
            "1339/1339 - 2s - loss: 0.0062 - 2s/epoch - 2ms/step\n",
            "Epoch 68/100\n",
            "1339/1339 - 2s - loss: 0.0062 - 2s/epoch - 2ms/step\n",
            "Epoch 69/100\n",
            "1339/1339 - 2s - loss: 0.0062 - 2s/epoch - 2ms/step\n",
            "Epoch 70/100\n",
            "1339/1339 - 2s - loss: 0.0062 - 2s/epoch - 2ms/step\n",
            "Epoch 71/100\n",
            "1339/1339 - 3s - loss: 0.0062 - 3s/epoch - 3ms/step\n",
            "Epoch 72/100\n",
            "1339/1339 - 3s - loss: 0.0062 - 3s/epoch - 2ms/step\n",
            "Epoch 73/100\n",
            "1339/1339 - 2s - loss: 0.0062 - 2s/epoch - 2ms/step\n",
            "Epoch 74/100\n",
            "1339/1339 - 2s - loss: 0.0062 - 2s/epoch - 2ms/step\n",
            "Epoch 75/100\n",
            "1339/1339 - 2s - loss: 0.0063 - 2s/epoch - 2ms/step\n",
            "Epoch 76/100\n",
            "1339/1339 - 3s - loss: 0.0062 - 3s/epoch - 2ms/step\n",
            "Epoch 77/100\n",
            "1339/1339 - 3s - loss: 0.0063 - 3s/epoch - 2ms/step\n",
            "Epoch 78/100\n",
            "1339/1339 - 2s - loss: 0.0062 - 2s/epoch - 2ms/step\n",
            "Epoch 79/100\n",
            "1339/1339 - 2s - loss: 0.0062 - 2s/epoch - 2ms/step\n",
            "Epoch 80/100\n",
            "1339/1339 - 2s - loss: 0.0062 - 2s/epoch - 2ms/step\n",
            "Epoch 81/100\n",
            "1339/1339 - 3s - loss: 0.0062 - 3s/epoch - 2ms/step\n",
            "Epoch 82/100\n",
            "1339/1339 - 3s - loss: 0.0062 - 3s/epoch - 2ms/step\n",
            "Epoch 83/100\n",
            "1339/1339 - 2s - loss: 0.0062 - 2s/epoch - 2ms/step\n",
            "Epoch 84/100\n",
            "1339/1339 - 2s - loss: 0.0062 - 2s/epoch - 2ms/step\n",
            "Epoch 85/100\n",
            "1339/1339 - 2s - loss: 0.0063 - 2s/epoch - 2ms/step\n",
            "Epoch 86/100\n",
            "1339/1339 - 3s - loss: 0.0063 - 3s/epoch - 2ms/step\n",
            "Epoch 87/100\n",
            "1339/1339 - 3s - loss: 0.0062 - 3s/epoch - 2ms/step\n",
            "Epoch 88/100\n",
            "1339/1339 - 2s - loss: 0.0062 - 2s/epoch - 2ms/step\n",
            "Epoch 89/100\n",
            "1339/1339 - 2s - loss: 0.0062 - 2s/epoch - 2ms/step\n",
            "Epoch 90/100\n",
            "1339/1339 - 2s - loss: 0.0063 - 2s/epoch - 2ms/step\n",
            "Epoch 91/100\n",
            "1339/1339 - 3s - loss: 0.0062 - 3s/epoch - 2ms/step\n",
            "Epoch 92/100\n",
            "1339/1339 - 3s - loss: 0.0062 - 3s/epoch - 2ms/step\n",
            "Epoch 93/100\n",
            "1339/1339 - 2s - loss: 0.0062 - 2s/epoch - 2ms/step\n",
            "Epoch 94/100\n",
            "1339/1339 - 2s - loss: 0.0062 - 2s/epoch - 2ms/step\n",
            "Epoch 95/100\n",
            "1339/1339 - 2s - loss: 0.0062 - 2s/epoch - 2ms/step\n",
            "Epoch 96/100\n",
            "1339/1339 - 2s - loss: 0.0062 - 2s/epoch - 2ms/step\n",
            "Epoch 97/100\n",
            "1339/1339 - 3s - loss: 0.0062 - 3s/epoch - 3ms/step\n",
            "Epoch 98/100\n",
            "1339/1339 - 2s - loss: 0.0062 - 2s/epoch - 2ms/step\n",
            "Epoch 99/100\n",
            "1339/1339 - 2s - loss: 0.0062 - 2s/epoch - 2ms/step\n",
            "Epoch 100/100\n",
            "1339/1339 - 2s - loss: 0.0063 - 2s/epoch - 2ms/step\n",
            "11/11 [==============================] - 1s 3ms/step\n",
            "MAE: 340.0434899228268\n",
            "MSE: 118017.11546654328\n",
            "RMSE: 343.53619236776683\n"
          ]
        }
      ]
    },
    {
      "cell_type": "markdown",
      "source": [
        "## Model Tuning"
      ],
      "metadata": {
        "id": "N63TAPOI98jI"
      }
    },
    {
      "cell_type": "markdown",
      "source": [
        "ARIMA had better performance (lower MAE, MSE, and RMSE) than SARIMAX. This might suggest that the seasonality component in your data is relatively weak or that the model was able to handle it by differencing the data. "
      ],
      "metadata": {
        "id": "43uk0gBz-Rb5"
      }
    },
    {
      "cell_type": "code",
      "source": [
        "import itertools\n",
        "from statsmodels.tsa.arima.model import ARIMA\n",
        "\n",
        "# Define the range of p, d, and q values to try\n",
        "p = range(0, 5)\n",
        "d = range(0, 3)\n",
        "q = range(0, 5)\n",
        "\n",
        "# Generate all possible combinations of p, d, and q\n",
        "pdq = list(itertools.product(p, d, q))\n",
        "\n",
        "# Find the best parameters for the ARIMA model\n",
        "best_params = None\n",
        "best_rmse = float('inf')\n",
        "\n",
        "y_train.index = pd.DatetimeIndex(y_train.index)\n",
        "y_test.index = pd.DatetimeIndex(y_test.index)\n",
        "\n",
        "\n",
        "for param in pdq:\n",
        "    try:\n",
        "        arima_model = ARIMA(y_train, order=param)\n",
        "        arima_results = arima_model.fit()\n",
        "        predictions = arima_results.forecast(steps=len(y_test))\n",
        "        rmse = np.sqrt(mean_squared_error(y_test, predictions))\n",
        "        \n",
        "        if rmse < best_rmse:\n",
        "            best_rmse = rmse\n",
        "            best_params = param\n",
        "        print(f\"ARIMA{param} - RMSE: {rmse}\")\n",
        "    except Exception as e:\n",
        "        print(f\"Error for ARIMA{param}: {e}\")\n",
        "        continue\n",
        "\n",
        "print(f\"Best parameters: {best_params}\")\n",
        "print(f\"Best RMSE: {best_rmse}\")\n"
      ],
      "metadata": {
        "colab": {
          "base_uri": "https://localhost:8080/"
        },
        "id": "fAmbFPIcI851",
        "outputId": "4630d9bc-1ebe-417c-8f36-298b8948862a"
      },
      "execution_count": 35,
      "outputs": [
        {
          "output_type": "stream",
          "name": "stdout",
          "text": [
            "ARIMA(0, 0, 0) - RMSE: 159.01495391872572\n",
            "ARIMA(0, 0, 1) - RMSE: 158.95603785386066\n",
            "ARIMA(0, 0, 2) - RMSE: 158.9504120293899\n",
            "ARIMA(0, 0, 3) - RMSE: 158.93850928163533\n",
            "ARIMA(0, 0, 4) - RMSE: 158.93986305497495\n",
            "ARIMA(0, 1, 0) - RMSE: 211.3315213231616\n",
            "ARIMA(0, 1, 1) - RMSE: 146.4667989973883\n",
            "ARIMA(0, 1, 2) - RMSE: 143.7920801031693\n",
            "ARIMA(0, 1, 3) - RMSE: 144.56292714361174\n",
            "ARIMA(0, 1, 4) - RMSE: 147.22955913385462\n",
            "ARIMA(0, 2, 0) - RMSE: 37672.78971041933\n",
            "ARIMA(0, 2, 1) - RMSE: 215.63281998396124\n",
            "ARIMA(0, 2, 2) - RMSE: 141.5644168105611\n",
            "ARIMA(0, 2, 3) - RMSE: 139.98960695438453\n",
            "ARIMA(0, 2, 4) - RMSE: 146.18351191622003\n",
            "ARIMA(1, 0, 0) - RMSE: 158.93039448512835\n",
            "ARIMA(1, 0, 1) - RMSE: 158.93779658306983\n",
            "ARIMA(1, 0, 2) - RMSE: 147.15672488400602\n",
            "ARIMA(1, 0, 3) - RMSE: 148.4414796379503\n",
            "ARIMA(1, 0, 4) - RMSE: 154.30849369608484\n",
            "ARIMA(1, 1, 0) - RMSE: 184.7162530064051\n",
            "ARIMA(1, 1, 1) - RMSE: 143.57676920325127\n",
            "ARIMA(1, 1, 2) - RMSE: 144.14561121966796\n",
            "ARIMA(1, 1, 3) - RMSE: 146.95297435099235\n",
            "ARIMA(1, 1, 4) - RMSE: 147.74359477581618\n",
            "ARIMA(1, 2, 0) - RMSE: 21218.592039976797\n",
            "ARIMA(1, 2, 1) - RMSE: 179.18971370355027\n",
            "ARIMA(1, 2, 2) - RMSE: 211.19353366420327\n",
            "ARIMA(1, 2, 3) - RMSE: 141.3225746776486\n",
            "ARIMA(1, 2, 4) - RMSE: 139.74764420557977\n",
            "ARIMA(2, 0, 0) - RMSE: 158.9333208566709\n",
            "ARIMA(2, 0, 1) - RMSE: 158.93389257549086\n",
            "ARIMA(2, 0, 2) - RMSE: 147.8006783083887\n",
            "ARIMA(2, 0, 3) - RMSE: 154.17154935631052\n",
            "ARIMA(2, 0, 4) - RMSE: 147.53987958933138\n",
            "ARIMA(2, 1, 0) - RMSE: 169.15199265949698\n",
            "ARIMA(2, 1, 1) - RMSE: 145.67932842011834\n",
            "ARIMA(2, 1, 2) - RMSE: 150.88682690066523\n",
            "ARIMA(2, 1, 3) - RMSE: 145.91022218010278\n",
            "ARIMA(2, 1, 4) - RMSE: 143.18344501654323\n",
            "ARIMA(2, 2, 0) - RMSE: 9519.319212871505\n",
            "ARIMA(2, 2, 1) - RMSE: 162.0326283474462\n",
            "ARIMA(2, 2, 2) - RMSE: 150.8652674198786\n",
            "ARIMA(2, 2, 3) - RMSE: 164.1005054191587\n",
            "ARIMA(2, 2, 4) - RMSE: 151.26410622192438\n",
            "ARIMA(3, 0, 0) - RMSE: 158.94264796260907\n",
            "ARIMA(3, 0, 1) - RMSE: 149.44353745477898\n",
            "ARIMA(3, 0, 2) - RMSE: 156.20461679116505\n",
            "ARIMA(3, 0, 3) - RMSE: 152.38379572209803\n",
            "ARIMA(3, 0, 4) - RMSE: 140.2148862050244\n",
            "ARIMA(3, 1, 0) - RMSE: 167.0434613307834\n",
            "ARIMA(3, 1, 1) - RMSE: 146.68795209637122\n",
            "ARIMA(3, 1, 2) - RMSE: 145.7725727802491\n",
            "ARIMA(3, 1, 3) - RMSE: 143.53044043886\n",
            "ARIMA(3, 1, 4) - RMSE: 135.83107527253412\n",
            "ARIMA(3, 2, 0) - RMSE: 4711.8223584285515\n",
            "ARIMA(3, 2, 1) - RMSE: 158.97966840799174\n",
            "ARIMA(3, 2, 2) - RMSE: 220.3087203507996\n",
            "ARIMA(3, 2, 3) - RMSE: 153.1517608820752\n",
            "ARIMA(3, 2, 4) - RMSE: 168.4610881825874\n",
            "ARIMA(4, 0, 0) - RMSE: 158.9456539588163\n",
            "ARIMA(4, 0, 1) - RMSE: 158.96558941767694\n",
            "ARIMA(4, 0, 2) - RMSE: 150.2300454519715\n",
            "ARIMA(4, 0, 3) - RMSE: 140.33343678364966\n",
            "ARIMA(4, 0, 4) - RMSE: 134.33525692984492\n",
            "ARIMA(4, 1, 0) - RMSE: 167.3109547782462\n",
            "ARIMA(4, 1, 1) - RMSE: 152.449183002767\n",
            "ARIMA(4, 1, 2) - RMSE: 173.38844704265315\n",
            "ARIMA(4, 1, 3) - RMSE: 144.64160817158296\n",
            "ARIMA(4, 1, 4) - RMSE: 142.31828259633303\n",
            "ARIMA(4, 2, 0) - RMSE: 3522.9389460894336\n",
            "ARIMA(4, 2, 1) - RMSE: 159.5357254545087\n",
            "ARIMA(4, 2, 2) - RMSE: 159.0640655486007\n",
            "ARIMA(4, 2, 3) - RMSE: 148.71669697642113\n",
            "ARIMA(4, 2, 4) - RMSE: 154.0556894867637\n",
            "Best parameters: (4, 0, 4)\n",
            "Best RMSE: 134.33525692984492\n"
          ]
        }
      ]
    },
    {
      "cell_type": "markdown",
      "source": [
        "# Best Model"
      ],
      "metadata": {
        "id": "17rZx_beU2PQ"
      }
    },
    {
      "cell_type": "code",
      "source": [
        "from statsmodels.tsa.arima.model import ARIMA\n",
        "from sklearn.metrics import mean_absolute_error, mean_squared_error\n",
        "import numpy as np\n",
        "\n",
        "# Define the best ARIMA model\n",
        "best_model = ARIMA(y_train, order=(4, 0, 4))\n",
        "\n",
        "# Fit the best model\n",
        "best_model_fit = best_model.fit()\n",
        "\n",
        "# Make predictions for the test set\n",
        "predictions = best_model_fit.forecast(steps=len(y_test))\n",
        "\n",
        "# Evaluate the best model\n",
        "mae = mean_absolute_error(y_test, predictions)\n",
        "mse = mean_squared_error(y_test, predictions)\n",
        "rmse = np.sqrt(mse)\n",
        "\n",
        "print(f\"Best model parameters: (4, 0, 4)\")\n",
        "print(f\"MAE: {mae}\")\n",
        "print(f\"MSE: {mse}\")\n",
        "print(f\"RMSE: {rmse}\")\n"
      ],
      "metadata": {
        "colab": {
          "base_uri": "https://localhost:8080/"
        },
        "id": "31yLfiz5Uf0d",
        "outputId": "9848435e-8300-4bd1-818a-92d7100f8dd0"
      },
      "execution_count": 36,
      "outputs": [
        {
          "output_type": "stream",
          "name": "stdout",
          "text": [
            "Best model parameters: (4, 0, 4)\n",
            "MAE: 84.65084302827945\n",
            "MSE: 18045.961254407448\n",
            "RMSE: 134.33525692984492\n"
          ]
        }
      ]
    },
    {
      "cell_type": "code",
      "source": [
        "from google.colab import files\n",
        "import pickle\n",
        "\n",
        "# Save the best model to a file\n",
        "with open(\"best_arima_model.pkl\", \"wb\") as f:\n",
        "    pickle.dump(best_model_fit, f)\n",
        "\n",
        "# Download the saved model file\n",
        "files.download(\"best_arima_model.pkl\")\n"
      ],
      "metadata": {
        "colab": {
          "base_uri": "https://localhost:8080/",
          "height": 17
        },
        "id": "Eh68GvtvU7Yc",
        "outputId": "88bd1bb2-17f0-40b0-dc45-f2e5826912e7"
      },
      "execution_count": 37,
      "outputs": [
        {
          "output_type": "display_data",
          "data": {
            "text/plain": [
              "<IPython.core.display.Javascript object>"
            ],
            "application/javascript": [
              "\n",
              "    async function download(id, filename, size) {\n",
              "      if (!google.colab.kernel.accessAllowed) {\n",
              "        return;\n",
              "      }\n",
              "      const div = document.createElement('div');\n",
              "      const label = document.createElement('label');\n",
              "      label.textContent = `Downloading \"${filename}\": `;\n",
              "      div.appendChild(label);\n",
              "      const progress = document.createElement('progress');\n",
              "      progress.max = size;\n",
              "      div.appendChild(progress);\n",
              "      document.body.appendChild(div);\n",
              "\n",
              "      const buffers = [];\n",
              "      let downloaded = 0;\n",
              "\n",
              "      const channel = await google.colab.kernel.comms.open(id);\n",
              "      // Send a message to notify the kernel that we're ready.\n",
              "      channel.send({})\n",
              "\n",
              "      for await (const message of channel.messages) {\n",
              "        // Send a message to notify the kernel that we're ready.\n",
              "        channel.send({})\n",
              "        if (message.buffers) {\n",
              "          for (const buffer of message.buffers) {\n",
              "            buffers.push(buffer);\n",
              "            downloaded += buffer.byteLength;\n",
              "            progress.value = downloaded;\n",
              "          }\n",
              "        }\n",
              "      }\n",
              "      const blob = new Blob(buffers, {type: 'application/binary'});\n",
              "      const a = document.createElement('a');\n",
              "      a.href = window.URL.createObjectURL(blob);\n",
              "      a.download = filename;\n",
              "      div.appendChild(a);\n",
              "      a.click();\n",
              "      div.remove();\n",
              "    }\n",
              "  "
            ]
          },
          "metadata": {}
        },
        {
          "output_type": "display_data",
          "data": {
            "text/plain": [
              "<IPython.core.display.Javascript object>"
            ],
            "application/javascript": [
              "download(\"download_e0e56ed6-6e90-4269-85d2-5b2a00843426\", \"best_arima_model.pkl\", 6819258)"
            ]
          },
          "metadata": {}
        }
      ]
    }
  ]
}